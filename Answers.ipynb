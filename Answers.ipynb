{
 "cells": [
  {
   "cell_type": "markdown",
   "metadata": {
    "tags": []
   },
   "source": [
    "# **Mathematical Tools for Big Data - Assignment 3**\n",
    "\n",
    "### **Students :**\n",
    "- **Alexandra de Carvalho** (93346)\n",
    "- **Diogo Pedrosa** (xxxxx)\n",
    "- **Roshan Poudel** (109806)"
   ]
  },
  {
   "cell_type": "markdown",
   "metadata": {},
   "source": [
    "## **Common Steps**"
   ]
  },
  {
   "cell_type": "markdown",
   "metadata": {},
   "source": [
    "## Reading and General data analysis"
   ]
  },
  {
   "cell_type": "code",
   "execution_count": 1,
   "metadata": {},
   "outputs": [
    {
     "data": {
      "text/html": [
       "<div>\n",
       "<style scoped>\n",
       "    .dataframe tbody tr th:only-of-type {\n",
       "        vertical-align: middle;\n",
       "    }\n",
       "\n",
       "    .dataframe tbody tr th {\n",
       "        vertical-align: top;\n",
       "    }\n",
       "\n",
       "    .dataframe thead th {\n",
       "        text-align: right;\n",
       "    }\n",
       "</style>\n",
       "<table border=\"1\" class=\"dataframe\">\n",
       "  <thead>\n",
       "    <tr style=\"text-align: right;\">\n",
       "      <th></th>\n",
       "      <th>Year AD</th>\n",
       "      <th>Year BS</th>\n",
       "      <th>Crop</th>\n",
       "      <th>Area</th>\n",
       "      <th>Production</th>\n",
       "      <th>Yield</th>\n",
       "    </tr>\n",
       "  </thead>\n",
       "  <tbody>\n",
       "    <tr>\n",
       "      <th>0</th>\n",
       "      <td>1984/85</td>\n",
       "      <td>2041/42</td>\n",
       "      <td>OILSEED</td>\n",
       "      <td>127820</td>\n",
       "      <td>84030</td>\n",
       "      <td>657</td>\n",
       "    </tr>\n",
       "    <tr>\n",
       "      <th>1</th>\n",
       "      <td>1985/86</td>\n",
       "      <td>2042/43</td>\n",
       "      <td>OILSEED</td>\n",
       "      <td>137920</td>\n",
       "      <td>78390</td>\n",
       "      <td>568</td>\n",
       "    </tr>\n",
       "    <tr>\n",
       "      <th>2</th>\n",
       "      <td>1986/87</td>\n",
       "      <td>2043/44</td>\n",
       "      <td>OILSEED</td>\n",
       "      <td>142890</td>\n",
       "      <td>82500</td>\n",
       "      <td>577</td>\n",
       "    </tr>\n",
       "    <tr>\n",
       "      <th>3</th>\n",
       "      <td>1987/88</td>\n",
       "      <td>2044/45</td>\n",
       "      <td>OILSEED</td>\n",
       "      <td>151490</td>\n",
       "      <td>94370</td>\n",
       "      <td>623</td>\n",
       "    </tr>\n",
       "    <tr>\n",
       "      <th>4</th>\n",
       "      <td>1988/89</td>\n",
       "      <td>2045/46</td>\n",
       "      <td>OILSEED</td>\n",
       "      <td>154860</td>\n",
       "      <td>99190</td>\n",
       "      <td>641</td>\n",
       "    </tr>\n",
       "  </tbody>\n",
       "</table>\n",
       "</div>"
      ],
      "text/plain": [
       "   Year AD  Year BS     Crop    Area  Production  Yield\n",
       "0  1984/85  2041/42  OILSEED  127820       84030    657\n",
       "1  1985/86  2042/43  OILSEED  137920       78390    568\n",
       "2  1986/87  2043/44  OILSEED  142890       82500    577\n",
       "3  1987/88  2044/45  OILSEED  151490       94370    623\n",
       "4  1988/89  2045/46  OILSEED  154860       99190    641"
      ]
     },
     "execution_count": 1,
     "metadata": {},
     "output_type": "execute_result"
    }
   ],
   "source": [
    "import pandas as pd\n",
    "import numpy as np\n",
    "import random\n",
    "\n",
    "random.seed(2022)\n",
    "# reading data\n",
    "data = pd.read_csv(\"data/cash-crops-nepal.csv\")\n",
    "# visualize some data\n",
    "data.iloc[:5,:]"
   ]
  },
  {
   "cell_type": "code",
   "execution_count": 2,
   "metadata": {},
   "outputs": [
    {
     "data": {
      "text/plain": [
       "(105, 6)"
      ]
     },
     "execution_count": 2,
     "metadata": {},
     "output_type": "execute_result"
    }
   ],
   "source": [
    "data.shape"
   ]
  },
  {
   "cell_type": "code",
   "execution_count": 3,
   "metadata": {},
   "outputs": [
    {
     "name": "stdout",
     "output_type": "stream",
     "text": [
      "['OILSEED' 'POTATO' 'TOBACCO' 'SUGARCANE' 'JUTE']\n"
     ]
    }
   ],
   "source": [
    "# What are the different crops\n",
    "print(data.iloc[:,2].unique())"
   ]
  },
  {
   "cell_type": "code",
   "execution_count": 4,
   "metadata": {},
   "outputs": [
    {
     "data": {
      "text/html": [
       "<div>\n",
       "<style scoped>\n",
       "    .dataframe tbody tr th:only-of-type {\n",
       "        vertical-align: middle;\n",
       "    }\n",
       "\n",
       "    .dataframe tbody tr th {\n",
       "        vertical-align: top;\n",
       "    }\n",
       "\n",
       "    .dataframe thead th {\n",
       "        text-align: right;\n",
       "    }\n",
       "</style>\n",
       "<table border=\"1\" class=\"dataframe\">\n",
       "  <thead>\n",
       "    <tr style=\"text-align: right;\">\n",
       "      <th></th>\n",
       "      <th>Area</th>\n",
       "      <th>Production</th>\n",
       "      <th>Yield</th>\n",
       "    </tr>\n",
       "  </thead>\n",
       "  <tbody>\n",
       "    <tr>\n",
       "      <th>25</th>\n",
       "      <td>81570</td>\n",
       "      <td>640910</td>\n",
       "      <td>7857</td>\n",
       "    </tr>\n",
       "    <tr>\n",
       "      <th>61</th>\n",
       "      <td>3398</td>\n",
       "      <td>3310</td>\n",
       "      <td>974</td>\n",
       "    </tr>\n",
       "    <tr>\n",
       "      <th>88</th>\n",
       "      <td>13554</td>\n",
       "      <td>17624</td>\n",
       "      <td>1300</td>\n",
       "    </tr>\n",
       "    <tr>\n",
       "      <th>7</th>\n",
       "      <td>154570</td>\n",
       "      <td>87840</td>\n",
       "      <td>568</td>\n",
       "    </tr>\n",
       "    <tr>\n",
       "      <th>28</th>\n",
       "      <td>85300</td>\n",
       "      <td>732860</td>\n",
       "      <td>8592</td>\n",
       "    </tr>\n",
       "  </tbody>\n",
       "</table>\n",
       "</div>"
      ],
      "text/plain": [
       "      Area  Production  Yield\n",
       "25   81570      640910   7857\n",
       "61    3398        3310    974\n",
       "88   13554       17624   1300\n",
       "7   154570       87840    568\n",
       "28   85300      732860   8592"
      ]
     },
     "execution_count": 4,
     "metadata": {},
     "output_type": "execute_result"
    }
   ],
   "source": [
    "# shuffling data\n",
    "agri_data = data.iloc[np.random.permutation(len(data))]\n",
    "trunc_data = agri_data[[\"Area\", \"Production\", \"Yield\"]]\n",
    "trunc_data.iloc[:5,:]"
   ]
  },
  {
   "cell_type": "code",
   "execution_count": 5,
   "metadata": {},
   "outputs": [
    {
     "data": {
      "text/html": [
       "<div>\n",
       "<style scoped>\n",
       "    .dataframe tbody tr th:only-of-type {\n",
       "        vertical-align: middle;\n",
       "    }\n",
       "\n",
       "    .dataframe tbody tr th {\n",
       "        vertical-align: top;\n",
       "    }\n",
       "\n",
       "    .dataframe thead th {\n",
       "        text-align: right;\n",
       "    }\n",
       "</style>\n",
       "<table border=\"1\" class=\"dataframe\">\n",
       "  <thead>\n",
       "    <tr style=\"text-align: right;\">\n",
       "      <th></th>\n",
       "      <th>Area</th>\n",
       "      <th>Production</th>\n",
       "      <th>Yield</th>\n",
       "    </tr>\n",
       "  </thead>\n",
       "  <tbody>\n",
       "    <tr>\n",
       "      <th>25</th>\n",
       "      <td>0.428349</td>\n",
       "      <td>0.269732</td>\n",
       "      <td>0.195365</td>\n",
       "    </tr>\n",
       "    <tr>\n",
       "      <th>61</th>\n",
       "      <td>0.017844</td>\n",
       "      <td>0.001393</td>\n",
       "      <td>0.024219</td>\n",
       "    </tr>\n",
       "    <tr>\n",
       "      <th>88</th>\n",
       "      <td>0.071176</td>\n",
       "      <td>0.007417</td>\n",
       "      <td>0.032325</td>\n",
       "    </tr>\n",
       "    <tr>\n",
       "      <th>7</th>\n",
       "      <td>0.811694</td>\n",
       "      <td>0.036968</td>\n",
       "      <td>0.014123</td>\n",
       "    </tr>\n",
       "    <tr>\n",
       "      <th>28</th>\n",
       "      <td>0.447936</td>\n",
       "      <td>0.308429</td>\n",
       "      <td>0.213641</td>\n",
       "    </tr>\n",
       "  </tbody>\n",
       "</table>\n",
       "</div>"
      ],
      "text/plain": [
       "        Area  Production     Yield\n",
       "25  0.428349    0.269732  0.195365\n",
       "61  0.017844    0.001393  0.024219\n",
       "88  0.071176    0.007417  0.032325\n",
       "7   0.811694    0.036968  0.014123\n",
       "28  0.447936    0.308429  0.213641"
      ]
     },
     "execution_count": 5,
     "metadata": {},
     "output_type": "execute_result"
    }
   ],
   "source": [
    "# (custom choice for) normalizing data\n",
    "trunc_data = trunc_data / trunc_data.max()\n",
    "trunc_data.iloc[:5,:]"
   ]
  },
  {
   "cell_type": "markdown",
   "metadata": {},
   "source": [
    "## Loading SOM utils"
   ]
  },
  {
   "cell_type": "code",
   "execution_count": 6,
   "metadata": {},
   "outputs": [],
   "source": [
    "from scripts.som_utils import *"
   ]
  },
  {
   "cell_type": "markdown",
   "metadata": {},
   "source": [
    "## Base SOM (SOM1)"
   ]
  },
  {
   "cell_type": "code",
   "execution_count": 7,
   "metadata": {},
   "outputs": [
    {
     "name": "stdout",
     "output_type": "stream",
     "text": [
      "[3 3]\n",
      "SOM training epoches 20\n",
      "neighborhood radius  2.6878753795222865\n",
      "learning rate  0.009048374180359595\n",
      "-------------------------------------\n",
      "SOM training epoches 40\n",
      "neighborhood radius  2.4082246852806923\n",
      "learning rate  0.008187307530779819\n",
      "-------------------------------------\n",
      "SOM training epoches 60\n",
      "neighborhood radius  2.157669279974593\n",
      "learning rate  0.007408182206817179\n",
      "-------------------------------------\n",
      "SOM training epoches 80\n",
      "neighborhood radius  1.9331820449317627\n",
      "learning rate  0.006703200460356393\n",
      "-------------------------------------\n",
      "SOM training epoches 100\n",
      "neighborhood radius  1.7320508075688772\n",
      "learning rate  0.006065306597126334\n",
      "-------------------------------------\n",
      "SOM training epoches 120\n",
      "neighborhood radius  1.5518455739153598\n",
      "learning rate  0.005488116360940264\n",
      "-------------------------------------\n",
      "SOM training epoches 140\n",
      "neighborhood radius  1.3903891703159093\n",
      "learning rate  0.004965853037914096\n",
      "-------------------------------------\n",
      "SOM training epoches 160\n",
      "neighborhood radius  1.2457309396155174\n",
      "learning rate  0.004493289641172216\n",
      "-------------------------------------\n",
      "SOM training epoches 180\n",
      "neighborhood radius  1.1161231740339044\n",
      "learning rate  0.004065696597405992\n",
      "-------------------------------------\n",
      "SOM training epoches 200\n",
      "neighborhood radius  1.0\n",
      "learning rate  0.0036787944117144234\n",
      "-------------------------------------\n"
     ]
    },
    {
     "data": {
      "image/png": "[encoded data removed]",
      "text/plain": [
       "<Figure size 432x288 with 10 Axes>"
      ]
     },
     "metadata": {
      "needs_background": "light"
     },
     "output_type": "display_data"
    },
    {
     "data": {
      "text/html": [
       "<div>\n",
       "<style scoped>\n",
       "    .dataframe tbody tr th:only-of-type {\n",
       "        vertical-align: middle;\n",
       "    }\n",
       "\n",
       "    .dataframe tbody tr th {\n",
       "        vertical-align: top;\n",
       "    }\n",
       "\n",
       "    .dataframe thead th {\n",
       "        text-align: right;\n",
       "    }\n",
       "</style>\n",
       "<table border=\"1\" class=\"dataframe\">\n",
       "  <thead>\n",
       "    <tr style=\"text-align: right;\">\n",
       "      <th></th>\n",
       "      <th>Year AD</th>\n",
       "      <th>Year BS</th>\n",
       "      <th>Crop</th>\n",
       "      <th>Area</th>\n",
       "      <th>Production</th>\n",
       "      <th>Yield</th>\n",
       "      <th>Area_norm</th>\n",
       "      <th>Production_norm</th>\n",
       "      <th>Yield_norm</th>\n",
       "      <th>bmu</th>\n",
       "      <th>bmu_idx</th>\n",
       "    </tr>\n",
       "  </thead>\n",
       "  <tbody>\n",
       "    <tr>\n",
       "      <th>25</th>\n",
       "      <td>1988/89</td>\n",
       "      <td>2045/46</td>\n",
       "      <td>POTATO</td>\n",
       "      <td>81570</td>\n",
       "      <td>640910</td>\n",
       "      <td>7857</td>\n",
       "      <td>0.428349</td>\n",
       "      <td>0.269732</td>\n",
       "      <td>0.195365</td>\n",
       "      <td>[[0.37220362057052603, 0.23620062944449036, 0....</td>\n",
       "      <td>[1, 1]</td>\n",
       "    </tr>\n",
       "    <tr>\n",
       "      <th>61</th>\n",
       "      <td>2003/2004</td>\n",
       "      <td>2060/61</td>\n",
       "      <td>TOBACCO</td>\n",
       "      <td>3398</td>\n",
       "      <td>3310</td>\n",
       "      <td>974</td>\n",
       "      <td>0.017844</td>\n",
       "      <td>0.001393</td>\n",
       "      <td>0.024219</td>\n",
       "      <td>[[0.05962347407292379, 0.013706185067842554, 0...</td>\n",
       "      <td>[0, 2]</td>\n",
       "    </tr>\n",
       "    <tr>\n",
       "      <th>88</th>\n",
       "      <td>1988/89</td>\n",
       "      <td>2045/46</td>\n",
       "      <td>JUTE</td>\n",
       "      <td>13554</td>\n",
       "      <td>17624</td>\n",
       "      <td>1300</td>\n",
       "      <td>0.071176</td>\n",
       "      <td>0.007417</td>\n",
       "      <td>0.032325</td>\n",
       "      <td>[[0.05962347407292379, 0.013706185067842554, 0...</td>\n",
       "      <td>[0, 2]</td>\n",
       "    </tr>\n",
       "    <tr>\n",
       "      <th>7</th>\n",
       "      <td>1991/92</td>\n",
       "      <td>2048/49</td>\n",
       "      <td>OILSEED</td>\n",
       "      <td>154570</td>\n",
       "      <td>87840</td>\n",
       "      <td>568</td>\n",
       "      <td>0.811694</td>\n",
       "      <td>0.036968</td>\n",
       "      <td>0.014123</td>\n",
       "      <td>[[0.8594030742605002, 0.04829968897556307, 0.0...</td>\n",
       "      <td>[0, 0]</td>\n",
       "    </tr>\n",
       "    <tr>\n",
       "      <th>28</th>\n",
       "      <td>1991/92</td>\n",
       "      <td>2048/49</td>\n",
       "      <td>POTATO</td>\n",
       "      <td>85300</td>\n",
       "      <td>732860</td>\n",
       "      <td>8592</td>\n",
       "      <td>0.447936</td>\n",
       "      <td>0.308429</td>\n",
       "      <td>0.213641</td>\n",
       "      <td>[[0.37220362057052603, 0.23620062944449036, 0....</td>\n",
       "      <td>[1, 1]</td>\n",
       "    </tr>\n",
       "  </tbody>\n",
       "</table>\n",
       "</div>"
      ],
      "text/plain": [
       "      Year AD  Year BS     Crop    Area  Production  Yield  Area_norm  \\\n",
       "25    1988/89  2045/46   POTATO   81570      640910   7857   0.428349   \n",
       "61  2003/2004  2060/61  TOBACCO    3398        3310    974   0.017844   \n",
       "88    1988/89  2045/46     JUTE   13554       17624   1300   0.071176   \n",
       "7     1991/92  2048/49  OILSEED  154570       87840    568   0.811694   \n",
       "28    1991/92  2048/49   POTATO   85300      732860   8592   0.447936   \n",
       "\n",
       "    Production_norm  Yield_norm  \\\n",
       "25         0.269732    0.195365   \n",
       "61         0.001393    0.024219   \n",
       "88         0.007417    0.032325   \n",
       "7          0.036968    0.014123   \n",
       "28         0.308429    0.213641   \n",
       "\n",
       "                                                  bmu bmu_idx  \n",
       "25  [[0.37220362057052603, 0.23620062944449036, 0....  [1, 1]  \n",
       "61  [[0.05962347407292379, 0.013706185067842554, 0...  [0, 2]  \n",
       "88  [[0.05962347407292379, 0.013706185067842554, 0...  [0, 2]  \n",
       "7   [[0.8594030742605002, 0.04829968897556307, 0.0...  [0, 0]  \n",
       "28  [[0.37220362057052603, 0.23620062944449036, 0....  [1, 1]  "
      ]
     },
     "execution_count": 7,
     "metadata": {},
     "output_type": "execute_result"
    }
   ],
   "source": [
    "from scripts.our_som1 import SOM as SOM_1_base\n",
    "# som = SOM(x_size, y_size, num_features)\n",
    "som_1 = SOM_1_base(3,3,3)\n",
    "joined_df, clustered_df = som_train_predict(som_1, trunc_data, agri_data, num_epochs=200, init_learning_rate=0.01)\n",
    "joined_df.iloc[0:5]"
   ]
  },
  {
   "cell_type": "code",
   "execution_count": 8,
   "metadata": {},
   "outputs": [
    {
     "data": {
      "image/png": "[encoded data removed]",
      "text/plain": [
       "<Figure size 432x288 with 1 Axes>"
      ]
     },
     "metadata": {
      "needs_background": "light"
     },
     "output_type": "display_data"
    }
   ],
   "source": [
    "visualize_som(som_1, joined_df)"
   ]
  },
  {
   "cell_type": "code",
   "execution_count": 9,
   "metadata": {},
   "outputs": [
    {
     "data": {
      "text/html": [
       "<div>\n",
       "<style scoped>\n",
       "    .dataframe tbody tr th:only-of-type {\n",
       "        vertical-align: middle;\n",
       "    }\n",
       "\n",
       "    .dataframe tbody tr th {\n",
       "        vertical-align: top;\n",
       "    }\n",
       "\n",
       "    .dataframe thead th {\n",
       "        text-align: right;\n",
       "    }\n",
       "</style>\n",
       "<table border=\"1\" class=\"dataframe\">\n",
       "  <thead>\n",
       "    <tr style=\"text-align: right;\">\n",
       "      <th></th>\n",
       "      <th>Area</th>\n",
       "      <th>Production</th>\n",
       "      <th>Yield</th>\n",
       "    </tr>\n",
       "  </thead>\n",
       "  <tbody>\n",
       "    <tr>\n",
       "      <th>25</th>\n",
       "      <td>0.428349</td>\n",
       "      <td>0.269732</td>\n",
       "      <td>0.195365</td>\n",
       "    </tr>\n",
       "    <tr>\n",
       "      <th>61</th>\n",
       "      <td>0.017844</td>\n",
       "      <td>0.001393</td>\n",
       "      <td>0.024219</td>\n",
       "    </tr>\n",
       "    <tr>\n",
       "      <th>88</th>\n",
       "      <td>0.071176</td>\n",
       "      <td>0.007417</td>\n",
       "      <td>0.032325</td>\n",
       "    </tr>\n",
       "    <tr>\n",
       "      <th>7</th>\n",
       "      <td>0.811694</td>\n",
       "      <td>0.036968</td>\n",
       "      <td>0.014123</td>\n",
       "    </tr>\n",
       "    <tr>\n",
       "      <th>28</th>\n",
       "      <td>0.447936</td>\n",
       "      <td>0.308429</td>\n",
       "      <td>0.213641</td>\n",
       "    </tr>\n",
       "  </tbody>\n",
       "</table>\n",
       "</div>"
      ],
      "text/plain": [
       "        Area  Production     Yield\n",
       "25  0.428349    0.269732  0.195365\n",
       "61  0.017844    0.001393  0.024219\n",
       "88  0.071176    0.007417  0.032325\n",
       "7   0.811694    0.036968  0.014123\n",
       "28  0.447936    0.308429  0.213641"
      ]
     },
     "execution_count": 9,
     "metadata": {},
     "output_type": "execute_result"
    }
   ],
   "source": [
    "trunc_data.head()"
   ]
  },
  {
   "cell_type": "code",
   "execution_count": 10,
   "metadata": {},
   "outputs": [
    {
     "data": {
      "text/html": [
       "<div>\n",
       "<style scoped>\n",
       "    .dataframe tbody tr th:only-of-type {\n",
       "        vertical-align: middle;\n",
       "    }\n",
       "\n",
       "    .dataframe tbody tr th {\n",
       "        vertical-align: top;\n",
       "    }\n",
       "\n",
       "    .dataframe thead th {\n",
       "        text-align: right;\n",
       "    }\n",
       "</style>\n",
       "<table border=\"1\" class=\"dataframe\">\n",
       "  <thead>\n",
       "    <tr style=\"text-align: right;\">\n",
       "      <th></th>\n",
       "      <th>0</th>\n",
       "      <th>1</th>\n",
       "      <th>2</th>\n",
       "    </tr>\n",
       "  </thead>\n",
       "  <tbody>\n",
       "    <tr>\n",
       "      <th>25</th>\n",
       "      <td>0.372204</td>\n",
       "      <td>0.236201</td>\n",
       "      <td>0.234329</td>\n",
       "    </tr>\n",
       "    <tr>\n",
       "      <th>61</th>\n",
       "      <td>0.059623</td>\n",
       "      <td>0.013706</td>\n",
       "      <td>0.049950</td>\n",
       "    </tr>\n",
       "    <tr>\n",
       "      <th>88</th>\n",
       "      <td>0.059623</td>\n",
       "      <td>0.013706</td>\n",
       "      <td>0.049950</td>\n",
       "    </tr>\n",
       "    <tr>\n",
       "      <th>7</th>\n",
       "      <td>0.859403</td>\n",
       "      <td>0.048300</td>\n",
       "      <td>0.019506</td>\n",
       "    </tr>\n",
       "    <tr>\n",
       "      <th>28</th>\n",
       "      <td>0.372204</td>\n",
       "      <td>0.236201</td>\n",
       "      <td>0.234329</td>\n",
       "    </tr>\n",
       "  </tbody>\n",
       "</table>\n",
       "</div>"
      ],
      "text/plain": [
       "           0         1         2\n",
       "25  0.372204  0.236201  0.234329\n",
       "61  0.059623  0.013706  0.049950\n",
       "88  0.059623  0.013706  0.049950\n",
       "7   0.859403  0.048300  0.019506\n",
       "28  0.372204  0.236201  0.234329"
      ]
     },
     "execution_count": 10,
     "metadata": {},
     "output_type": "execute_result"
    }
   ],
   "source": [
    "cd = pd.DataFrame(clustered_df['bmu'].apply(lambda x: x[0].tolist()), index = trunc_data.index)\n",
    "cd = cd.bmu.apply(list).apply(pd.Series).astype(float)\n",
    "cd.head()"
   ]
  },
  {
   "cell_type": "markdown",
   "metadata": {},
   "source": [
    "<br /> <br />\n",
    "## **Q1:** What is the numeric criteria that you may use to determine if a change in the algorithm produces improvements?"
   ]
  },
  {
   "cell_type": "markdown",
   "metadata": {},
   "source": [
    "Throughout this assignment, we will be exploring different changes to the proposed algorithm, and their impact in results. Thus, we are in need of a numerical criteria that will allow us to measure results. For this reason, we are going to use the metrics of neighbourhood preservation and trustworthiness. These measure how the projection preserves the neighborhoods present in the input space by ranking the k-nearest neighbors of each sample before and after projection. The implementation of this criteria is in function `neighborhood_preservation_trustworthiness` inside `soms/som_utils.py` file."
   ]
  },
  {
   "cell_type": "code",
   "execution_count": 11,
   "metadata": {},
   "outputs": [
    {
     "data": {
      "text/plain": [
       "(0.9672676837725381, 0.8807023650884301)"
      ]
     },
     "execution_count": 11,
     "metadata": {},
     "output_type": "execute_result"
    }
   ],
   "source": [
    "neighborhood_preservation_trustworthiness(1, trunc_data, cd)"
   ]
  },
  {
   "cell_type": "code",
   "execution_count": 12,
   "metadata": {},
   "outputs": [
    {
     "data": {
      "text/plain": [
       "0.14611082621325217"
      ]
     },
     "execution_count": 12,
     "metadata": {},
     "output_type": "execute_result"
    }
   ],
   "source": [
    "quantization_error_test(trunc_data, cd)"
   ]
  },
  {
   "cell_type": "markdown",
   "metadata": {},
   "source": [
    "<br /> <br />\n",
    "## **Q2:** Write the version SOM1A, where you change the curve of the learning factor. Did you achieve improvements?"
   ]
  },
  {
   "cell_type": "markdown",
   "metadata": {},
   "source": [
    "The learning rate controls the size of weight vector. Therefore, chosing its decay function is important. There are many learning rate functions, like the power series implemented in `scripts/our_som1.py`. We found that a linear learning rate, implemented in `scripts/our_som1_A.py`, improves the algorithm performance, as shown by comparing the measurement function results."
   ]
  },
  {
   "cell_type": "code",
   "execution_count": 12,
   "metadata": {},
   "outputs": [
    {
     "name": "stdout",
     "output_type": "stream",
     "text": [
      "SOM training epoches 20\n",
      "neighborhood radius  2.6878753795222865\n",
      "learning rate  0.0005\n",
      "-------------------------------------\n",
      "SOM training epoches 40\n",
      "neighborhood radius  2.4082246852806923\n",
      "learning rate  0.00025\n",
      "-------------------------------------\n",
      "SOM training epoches 60\n",
      "neighborhood radius  2.157669279974593\n",
      "learning rate  0.00016666666666666666\n",
      "-------------------------------------\n",
      "SOM training epoches 80\n",
      "neighborhood radius  1.9331820449317627\n",
      "learning rate  0.000125\n",
      "-------------------------------------\n",
      "SOM training epoches 100\n",
      "neighborhood radius  1.7320508075688772\n",
      "learning rate  0.0001\n",
      "-------------------------------------\n",
      "SOM training epoches 120\n",
      "neighborhood radius  1.5518455739153598\n",
      "learning rate  8.333333333333333e-05\n",
      "-------------------------------------\n",
      "SOM training epoches 140\n",
      "neighborhood radius  1.3903891703159093\n",
      "learning rate  7.142857142857143e-05\n",
      "-------------------------------------\n",
      "SOM training epoches 160\n",
      "neighborhood radius  1.2457309396155174\n",
      "learning rate  6.25e-05\n",
      "-------------------------------------\n",
      "SOM training epoches 180\n",
      "neighborhood radius  1.1161231740339044\n",
      "learning rate  5.555555555555556e-05\n",
      "-------------------------------------\n",
      "SOM training epoches 200\n",
      "neighborhood radius  1.0\n",
      "learning rate  5e-05\n",
      "-------------------------------------\n"
     ]
    },
    {
     "data": {
      "image/png": "[encoded data removed]",
      "text/plain": [
       "<Figure size 432x288 with 10 Axes>"
      ]
     },
     "metadata": {
      "needs_background": "light"
     },
     "output_type": "display_data"
    }
   ],
   "source": [
    "from scripts.our_som1_A import SOM as SOM_1_A\n",
    "# som = SOM(x_size, y_size, num_features)\n",
    "som_1_A = SOM_1_A(3,3,3)\n",
    "joined_df, clustered_df = som_train_predict(som_1_A, trunc_data, agri_data, num_epochs=200, init_learning_rate=0.01)\n",
    "#joined_df.iloc[0:5]"
   ]
  },
  {
   "cell_type": "code",
   "execution_count": 14,
   "metadata": {},
   "outputs": [
    {
     "data": {
      "image/png": "[encoded data removed]",
      "text/plain": [
       "<Figure size 432x288 with 1 Axes>"
      ]
     },
     "metadata": {
      "needs_background": "light"
     },
     "output_type": "display_data"
    }
   ],
   "source": [
    "visualize_som(som_1_A, joined_df)"
   ]
  },
  {
   "cell_type": "code",
   "execution_count": 15,
   "metadata": {},
   "outputs": [],
   "source": [
    "cd = pd.DataFrame(clustered_df['bmu'].apply(lambda x: x[0].tolist()), index = trunc_data.index)\n",
    "cd = cd.bmu.apply(list).apply(pd.Series).astype(float)"
   ]
  },
  {
   "cell_type": "code",
   "execution_count": 16,
   "metadata": {},
   "outputs": [
    {
     "data": {
      "text/plain": [
       "(0.9145631067961165, 0.7530278574734375)"
      ]
     },
     "execution_count": 16,
     "metadata": {},
     "output_type": "execute_result"
    }
   ],
   "source": [
    "neighborhood_preservation_trustworthiness(1, trunc_data, cd)"
   ]
  },
  {
   "cell_type": "code",
   "execution_count": 17,
   "metadata": {},
   "outputs": [
    {
     "data": {
      "text/plain": [
       "0.49798190708516027"
      ]
     },
     "execution_count": 17,
     "metadata": {},
     "output_type": "execute_result"
    }
   ],
   "source": [
    "quantization_error_test(trunc_data, cd)"
   ]
  },
  {
   "cell_type": "markdown",
   "metadata": {},
   "source": [
    "<br /> <br />\n",
    "## **Q3:** Write the version SOM1B, where you change the curve of the deviation. Did you achieve improvements?"
   ]
  },
  {
   "cell_type": "code",
   "execution_count": 18,
   "metadata": {},
   "outputs": [
    {
     "name": "stdout",
     "output_type": "stream",
     "text": [
      "SOM training epoches 20\n",
      "neighborhood radius  0.4060058497098381\n",
      "learning rate  0.009048374180359595\n",
      "-------------------------------------\n",
      "SOM training epoches 40\n",
      "neighborhood radius  0.054946916666202536\n",
      "learning rate  0.008187307530779819\n",
      "-------------------------------------\n",
      "SOM training epoches 60\n",
      "neighborhood radius  0.0074362565299990755\n",
      "learning rate  0.007408182206817179\n",
      "-------------------------------------\n",
      "SOM training epoches 80\n",
      "neighborhood radius  0.0010063878837075356\n",
      "learning rate  0.006703200460356393\n",
      "-------------------------------------\n",
      "SOM training epoches 100\n",
      "neighborhood radius  0.00013619978928745456\n",
      "learning rate  0.006065306597126334\n",
      "-------------------------------------\n",
      "SOM training epoches 120\n",
      "neighborhood radius  1.843263705998463e-05\n",
      "learning rate  0.005488116360940264\n",
      "-------------------------------------\n",
      "SOM training epoches 140\n",
      "neighborhood radius  2.494586157310704e-06\n",
      "learning rate  0.004965853037914096\n",
      "-------------------------------------\n",
      "SOM training epoches 160\n",
      "neighborhood radius  3.3760552415777734e-07\n",
      "learning rate  0.004493289641172216\n",
      "-------------------------------------\n",
      "SOM training epoches 180\n",
      "neighborhood radius  4.568993923413789e-08\n",
      "learning rate  0.004065696597405992\n",
      "-------------------------------------\n",
      "SOM training epoches 200\n",
      "neighborhood radius  6.183460867315673e-09\n",
      "learning rate  0.0036787944117144234\n",
      "-------------------------------------\n"
     ]
    },
    {
     "data": {
      "image/png": "[encoded data removed]",
      "text/plain": [
       "<Figure size 432x288 with 10 Axes>"
      ]
     },
     "metadata": {
      "needs_background": "light"
     },
     "output_type": "display_data"
    }
   ],
   "source": [
    "from scripts.our_som1_B import SOM as SOM_1_B\n",
    "# som = SOM(x_size, y_size, num_features)\n",
    "som_1_B = SOM_1_B(3,3,3)\n",
    "joined_df, clustered_df = som_train_predict(som_1_B, trunc_data, agri_data, num_epochs=200, init_learning_rate=0.01)\n",
    "#joined_df.iloc[0:5]"
   ]
  },
  {
   "cell_type": "code",
   "execution_count": 19,
   "metadata": {},
   "outputs": [
    {
     "data": {
      "image/png": "[encoded data removed]",
      "text/plain": [
       "<Figure size 432x288 with 1 Axes>"
      ]
     },
     "metadata": {
      "needs_background": "light"
     },
     "output_type": "display_data"
    }
   ],
   "source": [
    "visualize_som(som_1_B, joined_df)"
   ]
  },
  {
   "cell_type": "code",
   "execution_count": 20,
   "metadata": {},
   "outputs": [
    {
     "data": {
      "text/plain": [
       "(0.996116504854369, 0.8911594877614295)"
      ]
     },
     "execution_count": 20,
     "metadata": {},
     "output_type": "execute_result"
    }
   ],
   "source": [
    "cd = pd.DataFrame(clustered_df['bmu'].apply(lambda x: x[0].tolist()), index = trunc_data.index)\n",
    "cd = cd.bmu.apply(list).apply(pd.Series).astype(float)\n",
    "\n",
    "neighborhood_preservation_trustworthiness(1, trunc_data, cd)"
   ]
  },
  {
   "cell_type": "code",
   "execution_count": 21,
   "metadata": {},
   "outputs": [
    {
     "data": {
      "text/plain": [
       "0.09188496351211105"
      ]
     },
     "execution_count": 21,
     "metadata": {},
     "output_type": "execute_result"
    }
   ],
   "source": [
    "quantization_error_test(trunc_data, cd)"
   ]
  },
  {
   "cell_type": "markdown",
   "metadata": {},
   "source": [
    "<br /> <br />\n",
    "## **Q4:** Write the version SOM1C, where you change the normal distribution to other distribution of your choice. Did you achieve improvements?"
   ]
  },
  {
   "cell_type": "code",
   "execution_count": 22,
   "metadata": {},
   "outputs": [
    {
     "name": "stdout",
     "output_type": "stream",
     "text": [
      "SOM training epoches 20\n",
      "neighborhood radius  2.6878753795222865\n",
      "learning rate  0.0005\n",
      "-------------------------------------\n",
      "SOM training epoches 40\n",
      "neighborhood radius  2.4082246852806923\n",
      "learning rate  0.00025\n",
      "-------------------------------------\n",
      "SOM training epoches 60\n",
      "neighborhood radius  2.157669279974593\n",
      "learning rate  0.00016666666666666666\n",
      "-------------------------------------\n",
      "SOM training epoches 80\n",
      "neighborhood radius  1.9331820449317627\n",
      "learning rate  0.000125\n",
      "-------------------------------------\n",
      "SOM training epoches 100\n",
      "neighborhood radius  1.7320508075688772\n",
      "learning rate  0.0001\n",
      "-------------------------------------\n",
      "SOM training epoches 120\n",
      "neighborhood radius  1.5518455739153598\n",
      "learning rate  8.333333333333333e-05\n",
      "-------------------------------------\n",
      "SOM training epoches 140\n",
      "neighborhood radius  1.3903891703159093\n",
      "learning rate  7.142857142857143e-05\n",
      "-------------------------------------\n",
      "SOM training epoches 160\n",
      "neighborhood radius  1.2457309396155174\n",
      "learning rate  6.25e-05\n",
      "-------------------------------------\n",
      "SOM training epoches 180\n",
      "neighborhood radius  1.1161231740339044\n",
      "learning rate  5.555555555555556e-05\n",
      "-------------------------------------\n",
      "SOM training epoches 200\n",
      "neighborhood radius  1.0\n",
      "learning rate  5e-05\n",
      "-------------------------------------\n"
     ]
    },
    {
     "data": {
      "image/png": "[encoded data removed]",
      "text/plain": [
       "<Figure size 432x288 with 10 Axes>"
      ]
     },
     "metadata": {
      "needs_background": "light"
     },
     "output_type": "display_data"
    }
   ],
   "source": [
    "from scripts.our_som1_C import SOM as SOM_1_C\n",
    "# som = SOM(x_size, y_size, num_features)\n",
    "som_1_C = SOM_1_C(3,3,3)\n",
    "joined_df, clustered_df = som_train_predict(som_1_A, trunc_data, agri_data, num_epochs=200, init_learning_rate=0.01)\n",
    "#joined_df.iloc[0:5]"
   ]
  },
  {
   "cell_type": "code",
   "execution_count": 23,
   "metadata": {},
   "outputs": [
    {
     "data": {
      "image/png": "[encoded data removed]",
      "text/plain": [
       "<Figure size 432x288 with 1 Axes>"
      ]
     },
     "metadata": {
      "needs_background": "light"
     },
     "output_type": "display_data"
    }
   ],
   "source": [
    "visualize_som(som_1_C, joined_df)"
   ]
  },
  {
   "cell_type": "code",
   "execution_count": 24,
   "metadata": {},
   "outputs": [
    {
     "data": {
      "text/plain": [
       "(0.8846047156726768, 0.828099141454576)"
      ]
     },
     "execution_count": 24,
     "metadata": {},
     "output_type": "execute_result"
    }
   ],
   "source": [
    "cd = pd.DataFrame(clustered_df['bmu'].apply(lambda x: x[0].tolist()), index = trunc_data.index)\n",
    "cd = cd.bmu.apply(list).apply(pd.Series).astype(float)\n",
    "\n",
    "neighborhood_preservation_trustworthiness(1, trunc_data, cd)"
   ]
  },
  {
   "cell_type": "code",
   "execution_count": 25,
   "metadata": {},
   "outputs": [
    {
     "data": {
      "text/plain": [
       "0.4921071484123426"
      ]
     },
     "execution_count": 25,
     "metadata": {},
     "output_type": "execute_result"
    }
   ],
   "source": [
    "quantization_error_test(trunc_data, cd)"
   ]
  },
  {
   "cell_type": "markdown",
   "metadata": {},
   "source": [
    "<br /> <br />\n",
    "## **Q5\\* :** Determine the mathematical conditions that ensure the convergence of equation (3) in page 14 of this slides."
   ]
  },
  {
   "cell_type": "code",
   "execution_count": null,
   "metadata": {},
   "outputs": [],
   "source": []
  },
  {
   "cell_type": "code",
   "execution_count": null,
   "metadata": {},
   "outputs": [],
   "source": []
  },
  {
   "cell_type": "code",
   "execution_count": null,
   "metadata": {},
   "outputs": [],
   "source": []
  },
  {
   "cell_type": "code",
   "execution_count": null,
   "metadata": {},
   "outputs": [],
   "source": []
  },
  {
   "cell_type": "markdown",
   "metadata": {},
   "source": [
    "<br /> <br />\n",
    "## **Q6 :** As explained in class, SOM can be seen as a Euler integration method for the corresponding ODE. Estimate the absolute error after N epochs."
   ]
  },
  {
   "cell_type": "code",
   "execution_count": 11,
   "metadata": {},
   "outputs": [
    {
     "name": "stderr",
     "output_type": "stream",
     "text": [
      "/home/alexa/Desktop/Masters/TMBD/TMBD-project-3/scripts/our_som1_6.py:99: RuntimeWarning: divide by zero encountered in double_scalars\n",
      "  return sp.exp(-distance / (2 * (radius ** 2)))\n"
     ]
    },
    {
     "name": "stdout",
     "output_type": "stream",
     "text": [
      "-2*exp(-radius/2)\n"
     ]
    }
   ],
   "source": [
    "from scripts.our_som1_6 import SOM as SOM_1_6\n",
    "som_1_6 = SOM_1_6(3,3,3)\n",
    "n = 200\n",
    "h,w = som_abs_error(som_1_6, trunc_data, num_epochs=n, init_learning_rate=0.01)\n",
    "print(h)"
   ]
  },
  {
   "cell_type": "code",
   "execution_count": null,
   "metadata": {},
   "outputs": [],
   "source": []
  },
  {
   "cell_type": "code",
   "execution_count": null,
   "metadata": {},
   "outputs": [],
   "source": []
  },
  {
   "cell_type": "markdown",
   "metadata": {},
   "source": [
    "<br /> <br />\n",
    "## **Q7\\* :** How could you change the SOM method to use Runge-Kutta second order method? Is the improvements?"
   ]
  },
  {
   "cell_type": "code",
   "execution_count": null,
   "metadata": {},
   "outputs": [],
   "source": []
  },
  {
   "cell_type": "code",
   "execution_count": null,
   "metadata": {},
   "outputs": [],
   "source": []
  },
  {
   "cell_type": "code",
   "execution_count": null,
   "metadata": {},
   "outputs": [],
   "source": []
  },
  {
   "cell_type": "code",
   "execution_count": null,
   "metadata": {},
   "outputs": [],
   "source": []
  },
  {
   "cell_type": "markdown",
   "metadata": {},
   "source": [
    "<br /> <br />\n",
    "## **Q8\\* :** Estimate the absolute error after N epochs by using Q7."
   ]
  },
  {
   "cell_type": "code",
   "execution_count": null,
   "metadata": {},
   "outputs": [],
   "source": []
  },
  {
   "cell_type": "code",
   "execution_count": null,
   "metadata": {},
   "outputs": [],
   "source": []
  },
  {
   "cell_type": "code",
   "execution_count": null,
   "metadata": {},
   "outputs": [],
   "source": []
  },
  {
   "cell_type": "code",
   "execution_count": null,
   "metadata": {},
   "outputs": [],
   "source": []
  },
  {
   "cell_type": "markdown",
   "metadata": {},
   "source": [
    "<br /> <br />\n",
    "## **Q9 :** How would you combine the answers to Q1-Q8, in order to suggest an improved version?"
   ]
  },
  {
   "cell_type": "code",
   "execution_count": null,
   "metadata": {},
   "outputs": [],
   "source": []
  },
  {
   "cell_type": "code",
   "execution_count": null,
   "metadata": {},
   "outputs": [],
   "source": []
  },
  {
   "cell_type": "code",
   "execution_count": null,
   "metadata": {},
   "outputs": [],
   "source": []
  },
  {
   "cell_type": "code",
   "execution_count": null,
   "metadata": {},
   "outputs": [],
   "source": []
  }
 ],
 "metadata": {
  "kernelspec": {
   "display_name": "Python 3 (ipykernel)",
   "language": "python",
   "name": "python3"
  },
  "language_info": {
   "codemirror_mode": {
    "name": "ipython",
    "version": 3
   },
   "file_extension": ".py",
   "mimetype": "text/x-python",
   "name": "python",
   "nbconvert_exporter": "python",
   "pygments_lexer": "ipython3",
   "version": "3.9.7"
  }
 },
 "nbformat": 4,
 "nbformat_minor": 4
}
