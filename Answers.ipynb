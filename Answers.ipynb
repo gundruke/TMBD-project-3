{
 "cells": [
  {
   "cell_type": "markdown",
   "metadata": {
    "tags": []
   },
   "source": [
    "# **Mathematical Tools for Big Data - Assignment 3**\n",
    "\n",
    "### **Students :**\n",
    "- **Alexandra de Carvalho** (93346)\n",
    "- **Diogo Pedrosa** (xxxxx)\n",
    "- **Roshan Poudel** (109806)"
   ]
  },
  {
   "cell_type": "markdown",
   "metadata": {},
   "source": [
    "## **Common Steps**"
   ]
  },
  {
   "cell_type": "markdown",
   "metadata": {},
   "source": [
    "## Reading and General data analysis"
   ]
  },
  {
   "cell_type": "code",
   "execution_count": 1,
   "metadata": {},
   "outputs": [
    {
     "data": {
      "text/html": [
       "<div>\n",
       "<style scoped>\n",
       "    .dataframe tbody tr th:only-of-type {\n",
       "        vertical-align: middle;\n",
       "    }\n",
       "\n",
       "    .dataframe tbody tr th {\n",
       "        vertical-align: top;\n",
       "    }\n",
       "\n",
       "    .dataframe thead th {\n",
       "        text-align: right;\n",
       "    }\n",
       "</style>\n",
       "<table border=\"1\" class=\"dataframe\">\n",
       "  <thead>\n",
       "    <tr style=\"text-align: right;\">\n",
       "      <th></th>\n",
       "      <th>Year AD</th>\n",
       "      <th>Year BS</th>\n",
       "      <th>Crop</th>\n",
       "      <th>Area</th>\n",
       "      <th>Production</th>\n",
       "      <th>Yield</th>\n",
       "    </tr>\n",
       "  </thead>\n",
       "  <tbody>\n",
       "    <tr>\n",
       "      <th>0</th>\n",
       "      <td>1984/85</td>\n",
       "      <td>2041/42</td>\n",
       "      <td>OILSEED</td>\n",
       "      <td>127820</td>\n",
       "      <td>84030</td>\n",
       "      <td>657</td>\n",
       "    </tr>\n",
       "    <tr>\n",
       "      <th>1</th>\n",
       "      <td>1985/86</td>\n",
       "      <td>2042/43</td>\n",
       "      <td>OILSEED</td>\n",
       "      <td>137920</td>\n",
       "      <td>78390</td>\n",
       "      <td>568</td>\n",
       "    </tr>\n",
       "    <tr>\n",
       "      <th>2</th>\n",
       "      <td>1986/87</td>\n",
       "      <td>2043/44</td>\n",
       "      <td>OILSEED</td>\n",
       "      <td>142890</td>\n",
       "      <td>82500</td>\n",
       "      <td>577</td>\n",
       "    </tr>\n",
       "    <tr>\n",
       "      <th>3</th>\n",
       "      <td>1987/88</td>\n",
       "      <td>2044/45</td>\n",
       "      <td>OILSEED</td>\n",
       "      <td>151490</td>\n",
       "      <td>94370</td>\n",
       "      <td>623</td>\n",
       "    </tr>\n",
       "    <tr>\n",
       "      <th>4</th>\n",
       "      <td>1988/89</td>\n",
       "      <td>2045/46</td>\n",
       "      <td>OILSEED</td>\n",
       "      <td>154860</td>\n",
       "      <td>99190</td>\n",
       "      <td>641</td>\n",
       "    </tr>\n",
       "  </tbody>\n",
       "</table>\n",
       "</div>"
      ],
      "text/plain": [
       "   Year AD  Year BS     Crop    Area  Production  Yield\n",
       "0  1984/85  2041/42  OILSEED  127820       84030    657\n",
       "1  1985/86  2042/43  OILSEED  137920       78390    568\n",
       "2  1986/87  2043/44  OILSEED  142890       82500    577\n",
       "3  1987/88  2044/45  OILSEED  151490       94370    623\n",
       "4  1988/89  2045/46  OILSEED  154860       99190    641"
      ]
     },
     "execution_count": 1,
     "metadata": {},
     "output_type": "execute_result"
    }
   ],
   "source": [
    "import pandas as pd\n",
    "import numpy as np\n",
    "import random\n",
    "\n",
    "random.seed(2022)\n",
    "# reading data\n",
    "data = pd.read_csv(\"data/cash-crops-nepal.csv\")\n",
    "# visualize some data\n",
    "data.iloc[:5,:]"
   ]
  },
  {
   "cell_type": "code",
   "execution_count": 2,
   "metadata": {},
   "outputs": [
    {
     "data": {
      "text/plain": [
       "(105, 6)"
      ]
     },
     "execution_count": 2,
     "metadata": {},
     "output_type": "execute_result"
    }
   ],
   "source": [
    "data.shape"
   ]
  },
  {
   "cell_type": "code",
   "execution_count": 3,
   "metadata": {},
   "outputs": [
    {
     "name": "stdout",
     "output_type": "stream",
     "text": [
      "['OILSEED' 'POTATO' 'TOBACCO' 'SUGARCANE' 'JUTE']\n"
     ]
    }
   ],
   "source": [
    "# What are the different crops\n",
    "print(data.iloc[:,2].unique())"
   ]
  },
  {
   "cell_type": "code",
   "execution_count": 4,
   "metadata": {},
   "outputs": [
    {
     "data": {
      "text/html": [
       "<div>\n",
       "<style scoped>\n",
       "    .dataframe tbody tr th:only-of-type {\n",
       "        vertical-align: middle;\n",
       "    }\n",
       "\n",
       "    .dataframe tbody tr th {\n",
       "        vertical-align: top;\n",
       "    }\n",
       "\n",
       "    .dataframe thead th {\n",
       "        text-align: right;\n",
       "    }\n",
       "</style>\n",
       "<table border=\"1\" class=\"dataframe\">\n",
       "  <thead>\n",
       "    <tr style=\"text-align: right;\">\n",
       "      <th></th>\n",
       "      <th>Area</th>\n",
       "      <th>Production</th>\n",
       "      <th>Yield</th>\n",
       "    </tr>\n",
       "  </thead>\n",
       "  <tbody>\n",
       "    <tr>\n",
       "      <th>10</th>\n",
       "      <td>184460</td>\n",
       "      <td>116300</td>\n",
       "      <td>630</td>\n",
       "    </tr>\n",
       "    <tr>\n",
       "      <th>56</th>\n",
       "      <td>4422</td>\n",
       "      <td>3911</td>\n",
       "      <td>884</td>\n",
       "    </tr>\n",
       "    <tr>\n",
       "      <th>35</th>\n",
       "      <td>118043</td>\n",
       "      <td>1091218</td>\n",
       "      <td>9244</td>\n",
       "    </tr>\n",
       "    <tr>\n",
       "      <th>40</th>\n",
       "      <td>143027</td>\n",
       "      <td>1643357</td>\n",
       "      <td>11490</td>\n",
       "    </tr>\n",
       "    <tr>\n",
       "      <th>51</th>\n",
       "      <td>6742</td>\n",
       "      <td>6223</td>\n",
       "      <td>923</td>\n",
       "    </tr>\n",
       "  </tbody>\n",
       "</table>\n",
       "</div>"
      ],
      "text/plain": [
       "      Area  Production  Yield\n",
       "10  184460      116300    630\n",
       "56    4422        3911    884\n",
       "35  118043     1091218   9244\n",
       "40  143027     1643357  11490\n",
       "51    6742        6223    923"
      ]
     },
     "execution_count": 4,
     "metadata": {},
     "output_type": "execute_result"
    }
   ],
   "source": [
    "# shuffling data\n",
    "agri_data = data.iloc[np.random.permutation(len(data))]\n",
    "trunc_data = agri_data[[\"Area\", \"Production\", \"Yield\"]]\n",
    "trunc_data.iloc[:5,:]"
   ]
  },
  {
   "cell_type": "code",
   "execution_count": 5,
   "metadata": {},
   "outputs": [
    {
     "data": {
      "text/html": [
       "<div>\n",
       "<style scoped>\n",
       "    .dataframe tbody tr th:only-of-type {\n",
       "        vertical-align: middle;\n",
       "    }\n",
       "\n",
       "    .dataframe tbody tr th {\n",
       "        vertical-align: top;\n",
       "    }\n",
       "\n",
       "    .dataframe thead th {\n",
       "        text-align: right;\n",
       "    }\n",
       "</style>\n",
       "<table border=\"1\" class=\"dataframe\">\n",
       "  <thead>\n",
       "    <tr style=\"text-align: right;\">\n",
       "      <th></th>\n",
       "      <th>Area</th>\n",
       "      <th>Production</th>\n",
       "      <th>Yield</th>\n",
       "    </tr>\n",
       "  </thead>\n",
       "  <tbody>\n",
       "    <tr>\n",
       "      <th>10</th>\n",
       "      <td>0.968655</td>\n",
       "      <td>0.048946</td>\n",
       "      <td>0.015665</td>\n",
       "    </tr>\n",
       "    <tr>\n",
       "      <th>56</th>\n",
       "      <td>0.023221</td>\n",
       "      <td>0.001646</td>\n",
       "      <td>0.021981</td>\n",
       "    </tr>\n",
       "    <tr>\n",
       "      <th>35</th>\n",
       "      <td>0.619879</td>\n",
       "      <td>0.459247</td>\n",
       "      <td>0.229853</td>\n",
       "    </tr>\n",
       "    <tr>\n",
       "      <th>40</th>\n",
       "      <td>0.751078</td>\n",
       "      <td>0.691619</td>\n",
       "      <td>0.285700</td>\n",
       "    </tr>\n",
       "    <tr>\n",
       "      <th>51</th>\n",
       "      <td>0.035404</td>\n",
       "      <td>0.002619</td>\n",
       "      <td>0.022950</td>\n",
       "    </tr>\n",
       "  </tbody>\n",
       "</table>\n",
       "</div>"
      ],
      "text/plain": [
       "        Area  Production     Yield\n",
       "10  0.968655    0.048946  0.015665\n",
       "56  0.023221    0.001646  0.021981\n",
       "35  0.619879    0.459247  0.229853\n",
       "40  0.751078    0.691619  0.285700\n",
       "51  0.035404    0.002619  0.022950"
      ]
     },
     "execution_count": 5,
     "metadata": {},
     "output_type": "execute_result"
    }
   ],
   "source": [
    "# (custom choice for) normalizing data\n",
    "trunc_data = trunc_data / trunc_data.max()\n",
    "trunc_data.iloc[:5,:]"
   ]
  },
  {
   "cell_type": "markdown",
   "metadata": {},
   "source": [
    "## Loading SOM utils"
   ]
  },
  {
   "cell_type": "code",
   "execution_count": 6,
   "metadata": {},
   "outputs": [],
   "source": [
    "from scripts.som_utils import neighborhood_preservation_trustworthiness\n",
    "from scripts.som_utils import som_train_predict\n",
    "from scripts.som_utils import visualize_som\n",
    "\n",
    "from scripts.som_utils import quantization_error_test"
   ]
  },
  {
   "cell_type": "markdown",
   "metadata": {},
   "source": [
    "## Base SOM (SOM1)"
   ]
  },
  {
   "cell_type": "code",
   "execution_count": 7,
   "metadata": {},
   "outputs": [
    {
     "name": "stdout",
     "output_type": "stream",
     "text": [
      "[3 3]\n",
      "SOM training epoches 20\n",
      "neighborhood radius  2.6878753795222865\n",
      "learning rate  0.009048374180359595\n",
      "-------------------------------------\n",
      "SOM training epoches 40\n",
      "neighborhood radius  2.4082246852806923\n",
      "learning rate  0.008187307530779819\n",
      "-------------------------------------\n",
      "SOM training epoches 60\n",
      "neighborhood radius  2.157669279974593\n",
      "learning rate  0.007408182206817179\n",
      "-------------------------------------\n",
      "SOM training epoches 80\n",
      "neighborhood radius  1.9331820449317627\n",
      "learning rate  0.006703200460356393\n",
      "-------------------------------------\n",
      "SOM training epoches 100\n",
      "neighborhood radius  1.7320508075688772\n",
      "learning rate  0.006065306597126334\n",
      "-------------------------------------\n",
      "SOM training epoches 120\n",
      "neighborhood radius  1.5518455739153598\n",
      "learning rate  0.005488116360940264\n",
      "-------------------------------------\n",
      "SOM training epoches 140\n",
      "neighborhood radius  1.3903891703159093\n",
      "learning rate  0.004965853037914096\n",
      "-------------------------------------\n",
      "SOM training epoches 160\n",
      "neighborhood radius  1.2457309396155174\n",
      "learning rate  0.004493289641172216\n",
      "-------------------------------------\n",
      "SOM training epoches 180\n",
      "neighborhood radius  1.1161231740339044\n",
      "learning rate  0.004065696597405992\n",
      "-------------------------------------\n",
      "SOM training epoches 200\n",
      "neighborhood radius  1.0\n",
      "learning rate  0.0036787944117144234\n",
      "-------------------------------------\n"
     ]
    },
    {
     "data": {
      "image/png": "[encoded data removed]",
      "text/plain": [
       "<Figure size 432x288 with 10 Axes>"
      ]
     },
     "metadata": {
      "needs_background": "light"
     },
     "output_type": "display_data"
    },
    {
     "data": {
      "text/html": [
       "<div>\n",
       "<style scoped>\n",
       "    .dataframe tbody tr th:only-of-type {\n",
       "        vertical-align: middle;\n",
       "    }\n",
       "\n",
       "    .dataframe tbody tr th {\n",
       "        vertical-align: top;\n",
       "    }\n",
       "\n",
       "    .dataframe thead th {\n",
       "        text-align: right;\n",
       "    }\n",
       "</style>\n",
       "<table border=\"1\" class=\"dataframe\">\n",
       "  <thead>\n",
       "    <tr style=\"text-align: right;\">\n",
       "      <th></th>\n",
       "      <th>Year AD</th>\n",
       "      <th>Year BS</th>\n",
       "      <th>Crop</th>\n",
       "      <th>Area</th>\n",
       "      <th>Production</th>\n",
       "      <th>Yield</th>\n",
       "      <th>Area_norm</th>\n",
       "      <th>Production_norm</th>\n",
       "      <th>Yield_norm</th>\n",
       "      <th>bmu</th>\n",
       "      <th>bmu_idx</th>\n",
       "    </tr>\n",
       "  </thead>\n",
       "  <tbody>\n",
       "    <tr>\n",
       "      <th>10</th>\n",
       "      <td>1994/95</td>\n",
       "      <td>2051/52</td>\n",
       "      <td>OILSEED</td>\n",
       "      <td>184460</td>\n",
       "      <td>116300</td>\n",
       "      <td>630</td>\n",
       "      <td>0.968655</td>\n",
       "      <td>0.048946</td>\n",
       "      <td>0.015665</td>\n",
       "      <td>[[0.8596121814221108, 0.04827051156327869, 0.0...</td>\n",
       "      <td>[2, 0]</td>\n",
       "    </tr>\n",
       "    <tr>\n",
       "      <th>56</th>\n",
       "      <td>1998/99</td>\n",
       "      <td>2055/56</td>\n",
       "      <td>TOBACCO</td>\n",
       "      <td>4422</td>\n",
       "      <td>3911</td>\n",
       "      <td>884</td>\n",
       "      <td>0.023221</td>\n",
       "      <td>0.001646</td>\n",
       "      <td>0.021981</td>\n",
       "      <td>[[0.05959535931037236, 0.01367692540625759, 0....</td>\n",
       "      <td>[2, 2]</td>\n",
       "    </tr>\n",
       "    <tr>\n",
       "      <th>35</th>\n",
       "      <td>1998/99</td>\n",
       "      <td>2055/56</td>\n",
       "      <td>POTATO</td>\n",
       "      <td>118043</td>\n",
       "      <td>1091218</td>\n",
       "      <td>9244</td>\n",
       "      <td>0.619879</td>\n",
       "      <td>0.459247</td>\n",
       "      <td>0.229853</td>\n",
       "      <td>[[0.6564003294293487, 0.5292064738385708, 0.24...</td>\n",
       "      <td>[0, 0]</td>\n",
       "    </tr>\n",
       "    <tr>\n",
       "      <th>40</th>\n",
       "      <td>2003/2004</td>\n",
       "      <td>2060/61</td>\n",
       "      <td>POTATO</td>\n",
       "      <td>143027</td>\n",
       "      <td>1643357</td>\n",
       "      <td>11490</td>\n",
       "      <td>0.751078</td>\n",
       "      <td>0.691619</td>\n",
       "      <td>0.285700</td>\n",
       "      <td>[[0.6564003294293487, 0.5292064738385708, 0.24...</td>\n",
       "      <td>[0, 0]</td>\n",
       "    </tr>\n",
       "    <tr>\n",
       "      <th>51</th>\n",
       "      <td>1993/94</td>\n",
       "      <td>2050/51</td>\n",
       "      <td>TOBACCO</td>\n",
       "      <td>6742</td>\n",
       "      <td>6223</td>\n",
       "      <td>923</td>\n",
       "      <td>0.035404</td>\n",
       "      <td>0.002619</td>\n",
       "      <td>0.022950</td>\n",
       "      <td>[[0.05959535931037236, 0.01367692540625759, 0....</td>\n",
       "      <td>[2, 2]</td>\n",
       "    </tr>\n",
       "  </tbody>\n",
       "</table>\n",
       "</div>"
      ],
      "text/plain": [
       "      Year AD  Year BS     Crop    Area  Production  Yield  Area_norm  \\\n",
       "10    1994/95  2051/52  OILSEED  184460      116300    630   0.968655   \n",
       "56    1998/99  2055/56  TOBACCO    4422        3911    884   0.023221   \n",
       "35    1998/99  2055/56   POTATO  118043     1091218   9244   0.619879   \n",
       "40  2003/2004  2060/61   POTATO  143027     1643357  11490   0.751078   \n",
       "51    1993/94  2050/51  TOBACCO    6742        6223    923   0.035404   \n",
       "\n",
       "    Production_norm  Yield_norm  \\\n",
       "10         0.048946    0.015665   \n",
       "56         0.001646    0.021981   \n",
       "35         0.459247    0.229853   \n",
       "40         0.691619    0.285700   \n",
       "51         0.002619    0.022950   \n",
       "\n",
       "                                                  bmu bmu_idx  \n",
       "10  [[0.8596121814221108, 0.04827051156327869, 0.0...  [2, 0]  \n",
       "56  [[0.05959535931037236, 0.01367692540625759, 0....  [2, 2]  \n",
       "35  [[0.6564003294293487, 0.5292064738385708, 0.24...  [0, 0]  \n",
       "40  [[0.6564003294293487, 0.5292064738385708, 0.24...  [0, 0]  \n",
       "51  [[0.05959535931037236, 0.01367692540625759, 0....  [2, 2]  "
      ]
     },
     "execution_count": 7,
     "metadata": {},
     "output_type": "execute_result"
    }
   ],
   "source": [
    "from scripts.our_som1 import SOM as SOM_1_base\n",
    "# som = SOM(x_size, y_size, num_features)\n",
    "som_1 = SOM_1_base(3,3,3)\n",
    "joined_df, clustered_df = som_train_predict(som_1, trunc_data, agri_data, num_epochs=200, init_learning_rate=0.01)\n",
    "joined_df.iloc[0:5]"
   ]
  },
  {
   "cell_type": "code",
   "execution_count": 8,
   "metadata": {},
   "outputs": [
    {
     "data": {
      "image/png": "[encoded data removed]",
      "text/plain": [
       "<Figure size 432x288 with 1 Axes>"
      ]
     },
     "metadata": {
      "needs_background": "light"
     },
     "output_type": "display_data"
    }
   ],
   "source": [
    "visualize_som(som_1, joined_df)"
   ]
  },
  {
   "cell_type": "code",
   "execution_count": 9,
   "metadata": {},
   "outputs": [
    {
     "data": {
      "text/html": [
       "<div>\n",
       "<style scoped>\n",
       "    .dataframe tbody tr th:only-of-type {\n",
       "        vertical-align: middle;\n",
       "    }\n",
       "\n",
       "    .dataframe tbody tr th {\n",
       "        vertical-align: top;\n",
       "    }\n",
       "\n",
       "    .dataframe thead th {\n",
       "        text-align: right;\n",
       "    }\n",
       "</style>\n",
       "<table border=\"1\" class=\"dataframe\">\n",
       "  <thead>\n",
       "    <tr style=\"text-align: right;\">\n",
       "      <th></th>\n",
       "      <th>Area</th>\n",
       "      <th>Production</th>\n",
       "      <th>Yield</th>\n",
       "    </tr>\n",
       "  </thead>\n",
       "  <tbody>\n",
       "    <tr>\n",
       "      <th>10</th>\n",
       "      <td>0.968655</td>\n",
       "      <td>0.048946</td>\n",
       "      <td>0.015665</td>\n",
       "    </tr>\n",
       "    <tr>\n",
       "      <th>56</th>\n",
       "      <td>0.023221</td>\n",
       "      <td>0.001646</td>\n",
       "      <td>0.021981</td>\n",
       "    </tr>\n",
       "    <tr>\n",
       "      <th>35</th>\n",
       "      <td>0.619879</td>\n",
       "      <td>0.459247</td>\n",
       "      <td>0.229853</td>\n",
       "    </tr>\n",
       "    <tr>\n",
       "      <th>40</th>\n",
       "      <td>0.751078</td>\n",
       "      <td>0.691619</td>\n",
       "      <td>0.285700</td>\n",
       "    </tr>\n",
       "    <tr>\n",
       "      <th>51</th>\n",
       "      <td>0.035404</td>\n",
       "      <td>0.002619</td>\n",
       "      <td>0.022950</td>\n",
       "    </tr>\n",
       "  </tbody>\n",
       "</table>\n",
       "</div>"
      ],
      "text/plain": [
       "        Area  Production     Yield\n",
       "10  0.968655    0.048946  0.015665\n",
       "56  0.023221    0.001646  0.021981\n",
       "35  0.619879    0.459247  0.229853\n",
       "40  0.751078    0.691619  0.285700\n",
       "51  0.035404    0.002619  0.022950"
      ]
     },
     "execution_count": 9,
     "metadata": {},
     "output_type": "execute_result"
    }
   ],
   "source": [
    "trunc_data.head()"
   ]
  },
  {
   "cell_type": "code",
   "execution_count": 10,
   "metadata": {},
   "outputs": [
    {
     "data": {
      "text/html": [
       "<div>\n",
       "<style scoped>\n",
       "    .dataframe tbody tr th:only-of-type {\n",
       "        vertical-align: middle;\n",
       "    }\n",
       "\n",
       "    .dataframe tbody tr th {\n",
       "        vertical-align: top;\n",
       "    }\n",
       "\n",
       "    .dataframe thead th {\n",
       "        text-align: right;\n",
       "    }\n",
       "</style>\n",
       "<table border=\"1\" class=\"dataframe\">\n",
       "  <thead>\n",
       "    <tr style=\"text-align: right;\">\n",
       "      <th></th>\n",
       "      <th>0</th>\n",
       "      <th>1</th>\n",
       "      <th>2</th>\n",
       "    </tr>\n",
       "  </thead>\n",
       "  <tbody>\n",
       "    <tr>\n",
       "      <th>10</th>\n",
       "      <td>0.859612</td>\n",
       "      <td>0.048271</td>\n",
       "      <td>0.019472</td>\n",
       "    </tr>\n",
       "    <tr>\n",
       "      <th>56</th>\n",
       "      <td>0.059595</td>\n",
       "      <td>0.013677</td>\n",
       "      <td>0.050075</td>\n",
       "    </tr>\n",
       "    <tr>\n",
       "      <th>35</th>\n",
       "      <td>0.656400</td>\n",
       "      <td>0.529206</td>\n",
       "      <td>0.246543</td>\n",
       "    </tr>\n",
       "    <tr>\n",
       "      <th>40</th>\n",
       "      <td>0.656400</td>\n",
       "      <td>0.529206</td>\n",
       "      <td>0.246543</td>\n",
       "    </tr>\n",
       "    <tr>\n",
       "      <th>51</th>\n",
       "      <td>0.059595</td>\n",
       "      <td>0.013677</td>\n",
       "      <td>0.050075</td>\n",
       "    </tr>\n",
       "  </tbody>\n",
       "</table>\n",
       "</div>"
      ],
      "text/plain": [
       "           0         1         2\n",
       "10  0.859612  0.048271  0.019472\n",
       "56  0.059595  0.013677  0.050075\n",
       "35  0.656400  0.529206  0.246543\n",
       "40  0.656400  0.529206  0.246543\n",
       "51  0.059595  0.013677  0.050075"
      ]
     },
     "execution_count": 10,
     "metadata": {},
     "output_type": "execute_result"
    }
   ],
   "source": [
    "cd = pd.DataFrame(clustered_df['bmu'].apply(lambda x: x[0].tolist()), index = trunc_data.index)\n",
    "cd = cd.bmu.apply(list).apply(pd.Series).astype(float)\n",
    "cd.head()"
   ]
  },
  {
   "cell_type": "markdown",
   "metadata": {},
   "source": [
    "<br /> <br />\n",
    "## **Q1:** What is the numeric criteria that you may use to determine if a change in the algorithm produces improvements?"
   ]
  },
  {
   "cell_type": "markdown",
   "metadata": {},
   "source": [
    "Throughout this assignment, we will be exploring different changes to the proposed algorithm, and their impact in results. Thus, we are in need of a numerical criteria that will allow us to measure results. For this reason, we are going to use the metrics of neighbourhood preservation and trustworthiness. These measure how the projection preserves the neighborhoods present in the input space by ranking the k-nearest neighbors of each sample before and after projection. The implementation of this criteria is in function `neighborhood_preservation_trustworthiness` inside `soms/som_utils.py` file."
   ]
  },
  {
   "cell_type": "code",
   "execution_count": 11,
   "metadata": {},
   "outputs": [
    {
     "data": {
      "text/plain": [
       "(0.9672676837725381, 0.8807023650884301)"
      ]
     },
     "execution_count": 11,
     "metadata": {},
     "output_type": "execute_result"
    }
   ],
   "source": [
    "neighborhood_preservation_trustworthiness(1, trunc_data, cd)"
   ]
  },
  {
   "cell_type": "code",
   "execution_count": 12,
   "metadata": {},
   "outputs": [
    {
     "data": {
      "text/plain": [
       "0.14607881156614988"
      ]
     },
     "execution_count": 12,
     "metadata": {},
     "output_type": "execute_result"
    }
   ],
   "source": [
    "quantization_error_test(trunc_data, cd)"
   ]
  },
  {
   "cell_type": "markdown",
   "metadata": {},
   "source": [
    "<br /> <br />\n",
    "## **Q2:** Write the version SOM1A, where you change the curve of the learning factor. Did you achieve improvements?"
   ]
  },
  {
   "cell_type": "markdown",
   "metadata": {},
   "source": [
    "The learning rate controls the size of weight vector. Therefore, chosing its decay function is important. There are many learning rate functions, like the power series implemented in `scripts/our_som1.py`. We found that a linear learning rate, implemented in `scripts/our_som1_A.py`, improves the algorithm performance, as shown by comparing the measurement function results."
   ]
  },
  {
   "cell_type": "code",
   "execution_count": 13,
   "metadata": {},
   "outputs": [
    {
     "name": "stdout",
     "output_type": "stream",
     "text": [
      "SOM training epoches 20\n",
      "neighborhood radius  2.6878753795222865\n",
      "learning rate  0.0005\n",
      "-------------------------------------\n",
      "SOM training epoches 40\n",
      "neighborhood radius  2.4082246852806923\n",
      "learning rate  0.00025\n",
      "-------------------------------------\n",
      "SOM training epoches 60\n",
      "neighborhood radius  2.157669279974593\n",
      "learning rate  0.00016666666666666666\n",
      "-------------------------------------\n",
      "SOM training epoches 80\n",
      "neighborhood radius  1.9331820449317627\n",
      "learning rate  0.000125\n",
      "-------------------------------------\n",
      "SOM training epoches 100\n",
      "neighborhood radius  1.7320508075688772\n",
      "learning rate  0.0001\n",
      "-------------------------------------\n",
      "SOM training epoches 120\n",
      "neighborhood radius  1.5518455739153598\n",
      "learning rate  8.333333333333333e-05\n",
      "-------------------------------------\n",
      "SOM training epoches 140\n",
      "neighborhood radius  1.3903891703159093\n",
      "learning rate  7.142857142857143e-05\n",
      "-------------------------------------\n",
      "SOM training epoches 160\n",
      "neighborhood radius  1.2457309396155174\n",
      "learning rate  6.25e-05\n",
      "-------------------------------------\n",
      "SOM training epoches 180\n",
      "neighborhood radius  1.1161231740339044\n",
      "learning rate  5.555555555555556e-05\n",
      "-------------------------------------\n",
      "SOM training epoches 200\n",
      "neighborhood radius  1.0\n",
      "learning rate  5e-05\n",
      "-------------------------------------\n"
     ]
    },
    {
     "data": {
      "image/png": "[encoded data removed]",
      "text/plain": [
       "<Figure size 432x288 with 10 Axes>"
      ]
     },
     "metadata": {
      "needs_background": "light"
     },
     "output_type": "display_data"
    }
   ],
   "source": [
    "from scripts.our_som1_A import SOM as SOM_1_A\n",
    "# som = SOM(x_size, y_size, num_features)\n",
    "som_1_A = SOM_1_A(3,3,3)\n",
    "joined_df, clustered_df = som_train_predict(som_1_A, trunc_data, agri_data, num_epochs=200, init_learning_rate=0.01)\n",
    "#joined_df.iloc[0:5]"
   ]
  },
  {
   "cell_type": "code",
   "execution_count": 14,
   "metadata": {},
   "outputs": [
    {
     "data": {
      "image/png": "[encoded data removed]",
      "text/plain": [
       "<Figure size 432x288 with 1 Axes>"
      ]
     },
     "metadata": {
      "needs_background": "light"
     },
     "output_type": "display_data"
    }
   ],
   "source": [
    "visualize_som(som_1_A, joined_df)"
   ]
  },
  {
   "cell_type": "code",
   "execution_count": 15,
   "metadata": {},
   "outputs": [],
   "source": [
    "cd = pd.DataFrame(clustered_df['bmu'].apply(lambda x: x[0].tolist()), index = trunc_data.index)\n",
    "cd = cd.bmu.apply(list).apply(pd.Series).astype(float)"
   ]
  },
  {
   "cell_type": "code",
   "execution_count": 16,
   "metadata": {},
   "outputs": [
    {
     "data": {
      "text/plain": [
       "(0.9104946833102173, 0.8585666926017388)"
      ]
     },
     "execution_count": 16,
     "metadata": {},
     "output_type": "execute_result"
    }
   ],
   "source": [
    "neighborhood_preservation_trustworthiness(1, trunc_data, cd)"
   ]
  },
  {
   "cell_type": "code",
   "execution_count": 17,
   "metadata": {},
   "outputs": [
    {
     "data": {
      "text/plain": [
       "0.4885108893527211"
      ]
     },
     "execution_count": 17,
     "metadata": {},
     "output_type": "execute_result"
    }
   ],
   "source": [
    "quantization_error_test(trunc_data, cd)"
   ]
  },
  {
   "cell_type": "markdown",
   "metadata": {},
   "source": [
    "<br /> <br />\n",
    "## **Q3:** Write the version SOM1B, where you change the curve of the deviation. Did you achieve improvements?"
   ]
  },
  {
   "cell_type": "code",
   "execution_count": 18,
   "metadata": {},
   "outputs": [
    {
     "name": "stdout",
     "output_type": "stream",
     "text": [
      "SOM training epoches 20\n",
      "neighborhood radius  0.4060058497098381\n",
      "learning rate  0.009048374180359595\n",
      "-------------------------------------\n",
      "SOM training epoches 40\n",
      "neighborhood radius  0.054946916666202536\n",
      "learning rate  0.008187307530779819\n",
      "-------------------------------------\n",
      "SOM training epoches 60\n",
      "neighborhood radius  0.0074362565299990755\n",
      "learning rate  0.007408182206817179\n",
      "-------------------------------------\n",
      "SOM training epoches 80\n",
      "neighborhood radius  0.0010063878837075356\n",
      "learning rate  0.006703200460356393\n",
      "-------------------------------------\n",
      "SOM training epoches 100\n",
      "neighborhood radius  0.00013619978928745456\n",
      "learning rate  0.006065306597126334\n",
      "-------------------------------------\n",
      "SOM training epoches 120\n",
      "neighborhood radius  1.843263705998463e-05\n",
      "learning rate  0.005488116360940264\n",
      "-------------------------------------\n",
      "SOM training epoches 140\n",
      "neighborhood radius  2.494586157310704e-06\n",
      "learning rate  0.004965853037914096\n",
      "-------------------------------------\n",
      "SOM training epoches 160\n",
      "neighborhood radius  3.3760552415777734e-07\n",
      "learning rate  0.004493289641172216\n",
      "-------------------------------------\n",
      "SOM training epoches 180\n",
      "neighborhood radius  4.568993923413789e-08\n",
      "learning rate  0.004065696597405992\n",
      "-------------------------------------\n",
      "SOM training epoches 200\n",
      "neighborhood radius  6.183460867315673e-09\n",
      "learning rate  0.0036787944117144234\n",
      "-------------------------------------\n"
     ]
    },
    {
     "data": {
      "image/png": "[encoded data removed]",
      "text/plain": [
       "<Figure size 432x288 with 10 Axes>"
      ]
     },
     "metadata": {
      "needs_background": "light"
     },
     "output_type": "display_data"
    }
   ],
   "source": [
    "from scripts.our_som1_B import SOM as SOM_1_B\n",
    "# som = SOM(x_size, y_size, num_features)\n",
    "som_1_B = SOM_1_B(3,3,3)\n",
    "joined_df, clustered_df = som_train_predict(som_1_B, trunc_data, agri_data, num_epochs=200, init_learning_rate=0.01)\n",
    "#joined_df.iloc[0:5]"
   ]
  },
  {
   "cell_type": "code",
   "execution_count": 19,
   "metadata": {},
   "outputs": [
    {
     "data": {
      "image/png": "[encoded data removed]",
      "text/plain": [
       "<Figure size 432x288 with 1 Axes>"
      ]
     },
     "metadata": {
      "needs_background": "light"
     },
     "output_type": "display_data"
    }
   ],
   "source": [
    "visualize_som(som_1_B, joined_df)"
   ]
  },
  {
   "cell_type": "code",
   "execution_count": 20,
   "metadata": {},
   "outputs": [
    {
     "data": {
      "text/plain": [
       "(0.9824318076745261, 0.896047003937806)"
      ]
     },
     "execution_count": 20,
     "metadata": {},
     "output_type": "execute_result"
    }
   ],
   "source": [
    "cd = pd.DataFrame(clustered_df['bmu'].apply(lambda x: x[0].tolist()), index = trunc_data.index)\n",
    "cd = cd.bmu.apply(list).apply(pd.Series).astype(float)\n",
    "\n",
    "neighborhood_preservation_trustworthiness(1, trunc_data, cd)"
   ]
  },
  {
   "cell_type": "code",
   "execution_count": 21,
   "metadata": {},
   "outputs": [
    {
     "data": {
      "text/plain": [
       "0.07738995034128"
      ]
     },
     "execution_count": 21,
     "metadata": {},
     "output_type": "execute_result"
    }
   ],
   "source": [
    "quantization_error_test(trunc_data, cd)"
   ]
  },
  {
   "cell_type": "markdown",
   "metadata": {},
   "source": [
    "<br /> <br />\n",
    "## **Q4:** Write the version SOM1C, where you change the normal distribution to other distribution of your choice. Did you achieve improvements?"
   ]
  },
  {
   "cell_type": "code",
   "execution_count": 22,
   "metadata": {},
   "outputs": [
    {
     "name": "stdout",
     "output_type": "stream",
     "text": [
      "SOM training epoches 20\n",
      "neighborhood radius  2.6878753795222865\n",
      "learning rate  0.0005\n",
      "-------------------------------------\n",
      "SOM training epoches 40\n",
      "neighborhood radius  2.4082246852806923\n",
      "learning rate  0.00025\n",
      "-------------------------------------\n",
      "SOM training epoches 60\n",
      "neighborhood radius  2.157669279974593\n",
      "learning rate  0.00016666666666666666\n",
      "-------------------------------------\n",
      "SOM training epoches 80\n",
      "neighborhood radius  1.9331820449317627\n",
      "learning rate  0.000125\n",
      "-------------------------------------\n",
      "SOM training epoches 100\n",
      "neighborhood radius  1.7320508075688772\n",
      "learning rate  0.0001\n",
      "-------------------------------------\n",
      "SOM training epoches 120\n",
      "neighborhood radius  1.5518455739153598\n",
      "learning rate  8.333333333333333e-05\n",
      "-------------------------------------\n",
      "SOM training epoches 140\n",
      "neighborhood radius  1.3903891703159093\n",
      "learning rate  7.142857142857143e-05\n",
      "-------------------------------------\n",
      "SOM training epoches 160\n",
      "neighborhood radius  1.2457309396155174\n",
      "learning rate  6.25e-05\n",
      "-------------------------------------\n",
      "SOM training epoches 180\n",
      "neighborhood radius  1.1161231740339044\n",
      "learning rate  5.555555555555556e-05\n",
      "-------------------------------------\n",
      "SOM training epoches 200\n",
      "neighborhood radius  1.0\n",
      "learning rate  5e-05\n",
      "-------------------------------------\n"
     ]
    },
    {
     "data": {
      "image/png": "[encoded data removed]",
      "text/plain": [
       "<Figure size 432x288 with 10 Axes>"
      ]
     },
     "metadata": {
      "needs_background": "light"
     },
     "output_type": "display_data"
    }
   ],
   "source": [
    "from scripts.our_som1_C import SOM as SOM_1_C\n",
    "# som = SOM(x_size, y_size, num_features)\n",
    "som_1_C = SOM_1_C(3,3,3)\n",
    "joined_df, clustered_df = som_train_predict(som_1_A, trunc_data, agri_data, num_epochs=200, init_learning_rate=0.01)\n",
    "#joined_df.iloc[0:5]"
   ]
  },
  {
   "cell_type": "code",
   "execution_count": 23,
   "metadata": {},
   "outputs": [
    {
     "data": {
      "image/png": "[encoded data removed]",
      "text/plain": [
       "<Figure size 432x288 with 1 Axes>"
      ]
     },
     "metadata": {
      "needs_background": "light"
     },
     "output_type": "display_data"
    }
   ],
   "source": [
    "visualize_som(som_1_C, joined_df)"
   ]
  },
  {
   "cell_type": "code",
   "execution_count": 24,
   "metadata": {},
   "outputs": [
    {
     "data": {
      "text/plain": [
       "(0.9042995839112344, 0.8593241688165476)"
      ]
     },
     "execution_count": 24,
     "metadata": {},
     "output_type": "execute_result"
    }
   ],
   "source": [
    "cd = pd.DataFrame(clustered_df['bmu'].apply(lambda x: x[0].tolist()), index = trunc_data.index)\n",
    "cd = cd.bmu.apply(list).apply(pd.Series).astype(float)\n",
    "\n",
    "neighborhood_preservation_trustworthiness(1, trunc_data, cd)"
   ]
  },
  {
   "cell_type": "code",
   "execution_count": 25,
   "metadata": {},
   "outputs": [
    {
     "data": {
      "text/plain": [
       "0.47076071654462337"
      ]
     },
     "execution_count": 25,
     "metadata": {},
     "output_type": "execute_result"
    }
   ],
   "source": [
    "quantization_error_test(trunc_data, cd)"
   ]
  },
  {
   "cell_type": "markdown",
   "metadata": {},
   "source": [
    "<br /> <br />\n",
    "## **Q5\\* :** Determine the mathematical conditions that ensure the convergence of equation (3) in page 14 of this slides."
   ]
  },
  {
   "cell_type": "code",
   "execution_count": null,
   "metadata": {},
   "outputs": [],
   "source": []
  },
  {
   "cell_type": "code",
   "execution_count": null,
   "metadata": {},
   "outputs": [],
   "source": []
  },
  {
   "cell_type": "code",
   "execution_count": null,
   "metadata": {},
   "outputs": [],
   "source": []
  },
  {
   "cell_type": "code",
   "execution_count": null,
   "metadata": {},
   "outputs": [],
   "source": []
  },
  {
   "cell_type": "markdown",
   "metadata": {},
   "source": [
    "<br /> <br />\n",
    "## **Q6 :** As explained in class, SOM can be seen as a Euler integration method for the corresponding ODE. Estimate the absolute error after N epochs."
   ]
  },
  {
   "cell_type": "code",
   "execution_count": null,
   "metadata": {},
   "outputs": [],
   "source": []
  },
  {
   "cell_type": "code",
   "execution_count": null,
   "metadata": {},
   "outputs": [],
   "source": []
  },
  {
   "cell_type": "code",
   "execution_count": null,
   "metadata": {},
   "outputs": [],
   "source": []
  },
  {
   "cell_type": "code",
   "execution_count": null,
   "metadata": {},
   "outputs": [],
   "source": []
  },
  {
   "cell_type": "markdown",
   "metadata": {},
   "source": [
    "<br /> <br />\n",
    "## **Q7\\* :** How could you change the SOM method to use Runge-Kutta second order method? Is the improvements?"
   ]
  },
  {
   "cell_type": "code",
   "execution_count": null,
   "metadata": {},
   "outputs": [],
   "source": []
  },
  {
   "cell_type": "code",
   "execution_count": null,
   "metadata": {},
   "outputs": [],
   "source": []
  },
  {
   "cell_type": "code",
   "execution_count": null,
   "metadata": {},
   "outputs": [],
   "source": []
  },
  {
   "cell_type": "code",
   "execution_count": null,
   "metadata": {},
   "outputs": [],
   "source": []
  },
  {
   "cell_type": "markdown",
   "metadata": {},
   "source": [
    "<br /> <br />\n",
    "## **Q8\\* :** Estimate the absolute error after N epochs by using Q7."
   ]
  },
  {
   "cell_type": "code",
   "execution_count": null,
   "metadata": {},
   "outputs": [],
   "source": []
  },
  {
   "cell_type": "code",
   "execution_count": null,
   "metadata": {},
   "outputs": [],
   "source": []
  },
  {
   "cell_type": "code",
   "execution_count": null,
   "metadata": {},
   "outputs": [],
   "source": []
  },
  {
   "cell_type": "code",
   "execution_count": null,
   "metadata": {},
   "outputs": [],
   "source": []
  },
  {
   "cell_type": "markdown",
   "metadata": {},
   "source": [
    "<br /> <br />\n",
    "## **Q8\\* :** How would you combine the answers to Q1-Q8, in order to suggest an improved version?"
   ]
  },
  {
   "cell_type": "code",
   "execution_count": null,
   "metadata": {},
   "outputs": [],
   "source": []
  },
  {
   "cell_type": "code",
   "execution_count": null,
   "metadata": {},
   "outputs": [],
   "source": []
  },
  {
   "cell_type": "code",
   "execution_count": null,
   "metadata": {},
   "outputs": [],
   "source": []
  },
  {
   "cell_type": "code",
   "execution_count": null,
   "metadata": {},
   "outputs": [],
   "source": []
  }
 ],
 "metadata": {
  "kernelspec": {
   "display_name": "Python 3 (ipykernel)",
   "language": "python",
   "name": "python3"
  },
  "language_info": {
   "codemirror_mode": {
    "name": "ipython",
    "version": 3
   },
   "file_extension": ".py",
   "mimetype": "text/x-python",
   "name": "python",
   "nbconvert_exporter": "python",
   "pygments_lexer": "ipython3",
   "version": "3.8.5"
  }
 },
 "nbformat": 4,
 "nbformat_minor": 4
}
