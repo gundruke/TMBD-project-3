{
 "cells": [
  {
   "cell_type": "markdown",
   "metadata": {
    "tags": []
   },
   "source": [
    "# **Mathematical Tools for Big Data - Assignment 3**\n",
    "\n",
    "### **Students :**\n",
    "- **Alexandra de Carvalho** (93346)\n",
    "- **Diogo Pedrosa** (xxxxx)\n",
    "- **Roshan Poudel** (109806)"
   ]
  },
  {
   "cell_type": "markdown",
   "metadata": {},
   "source": [
    "## **Common Steps**"
   ]
  },
  {
   "cell_type": "markdown",
   "metadata": {},
   "source": [
    "## Reading and General data analysis"
   ]
  },
  {
   "cell_type": "code",
   "execution_count": 1,
   "metadata": {},
   "outputs": [
    {
     "data": {
      "text/html": [
       "<div>\n",
       "<style scoped>\n",
       "    .dataframe tbody tr th:only-of-type {\n",
       "        vertical-align: middle;\n",
       "    }\n",
       "\n",
       "    .dataframe tbody tr th {\n",
       "        vertical-align: top;\n",
       "    }\n",
       "\n",
       "    .dataframe thead th {\n",
       "        text-align: right;\n",
       "    }\n",
       "</style>\n",
       "<table border=\"1\" class=\"dataframe\">\n",
       "  <thead>\n",
       "    <tr style=\"text-align: right;\">\n",
       "      <th></th>\n",
       "      <th>Year AD</th>\n",
       "      <th>Year BS</th>\n",
       "      <th>Crop</th>\n",
       "      <th>Area</th>\n",
       "      <th>Production</th>\n",
       "      <th>Yield</th>\n",
       "    </tr>\n",
       "  </thead>\n",
       "  <tbody>\n",
       "    <tr>\n",
       "      <th>0</th>\n",
       "      <td>1984/85</td>\n",
       "      <td>2041/42</td>\n",
       "      <td>OILSEED</td>\n",
       "      <td>127820</td>\n",
       "      <td>84030</td>\n",
       "      <td>657</td>\n",
       "    </tr>\n",
       "    <tr>\n",
       "      <th>1</th>\n",
       "      <td>1985/86</td>\n",
       "      <td>2042/43</td>\n",
       "      <td>OILSEED</td>\n",
       "      <td>137920</td>\n",
       "      <td>78390</td>\n",
       "      <td>568</td>\n",
       "    </tr>\n",
       "    <tr>\n",
       "      <th>2</th>\n",
       "      <td>1986/87</td>\n",
       "      <td>2043/44</td>\n",
       "      <td>OILSEED</td>\n",
       "      <td>142890</td>\n",
       "      <td>82500</td>\n",
       "      <td>577</td>\n",
       "    </tr>\n",
       "    <tr>\n",
       "      <th>3</th>\n",
       "      <td>1987/88</td>\n",
       "      <td>2044/45</td>\n",
       "      <td>OILSEED</td>\n",
       "      <td>151490</td>\n",
       "      <td>94370</td>\n",
       "      <td>623</td>\n",
       "    </tr>\n",
       "    <tr>\n",
       "      <th>4</th>\n",
       "      <td>1988/89</td>\n",
       "      <td>2045/46</td>\n",
       "      <td>OILSEED</td>\n",
       "      <td>154860</td>\n",
       "      <td>99190</td>\n",
       "      <td>641</td>\n",
       "    </tr>\n",
       "  </tbody>\n",
       "</table>\n",
       "</div>"
      ],
      "text/plain": [
       "   Year AD  Year BS     Crop    Area  Production  Yield\n",
       "0  1984/85  2041/42  OILSEED  127820       84030    657\n",
       "1  1985/86  2042/43  OILSEED  137920       78390    568\n",
       "2  1986/87  2043/44  OILSEED  142890       82500    577\n",
       "3  1987/88  2044/45  OILSEED  151490       94370    623\n",
       "4  1988/89  2045/46  OILSEED  154860       99190    641"
      ]
     },
     "execution_count": 1,
     "metadata": {},
     "output_type": "execute_result"
    }
   ],
   "source": [
    "import pandas as pd\n",
    "import numpy as np\n",
    "import random\n",
    "\n",
    "random.seed(2022)\n",
    "# reading data\n",
    "data = pd.read_csv(\"data/cash-crops-nepal.csv\")\n",
    "# visualize some data\n",
    "data.iloc[:5,:]"
   ]
  },
  {
   "cell_type": "code",
   "execution_count": 2,
   "metadata": {},
   "outputs": [
    {
     "data": {
      "text/plain": [
       "(105, 6)"
      ]
     },
     "execution_count": 2,
     "metadata": {},
     "output_type": "execute_result"
    }
   ],
   "source": [
    "data.shape"
   ]
  },
  {
   "cell_type": "code",
   "execution_count": 3,
   "metadata": {},
   "outputs": [
    {
     "name": "stdout",
     "output_type": "stream",
     "text": [
      "['OILSEED' 'POTATO' 'TOBACCO' 'SUGARCANE' 'JUTE']\n"
     ]
    }
   ],
   "source": [
    "# What are the different crops\n",
    "print(data.iloc[:,2].unique())"
   ]
  },
  {
   "cell_type": "code",
   "execution_count": 4,
   "metadata": {},
   "outputs": [
    {
     "data": {
      "text/html": [
       "<div>\n",
       "<style scoped>\n",
       "    .dataframe tbody tr th:only-of-type {\n",
       "        vertical-align: middle;\n",
       "    }\n",
       "\n",
       "    .dataframe tbody tr th {\n",
       "        vertical-align: top;\n",
       "    }\n",
       "\n",
       "    .dataframe thead th {\n",
       "        text-align: right;\n",
       "    }\n",
       "</style>\n",
       "<table border=\"1\" class=\"dataframe\">\n",
       "  <thead>\n",
       "    <tr style=\"text-align: right;\">\n",
       "      <th></th>\n",
       "      <th>Area</th>\n",
       "      <th>Production</th>\n",
       "      <th>Yield</th>\n",
       "    </tr>\n",
       "  </thead>\n",
       "  <tbody>\n",
       "    <tr>\n",
       "      <th>25</th>\n",
       "      <td>81570</td>\n",
       "      <td>640910</td>\n",
       "      <td>7857</td>\n",
       "    </tr>\n",
       "    <tr>\n",
       "      <th>46</th>\n",
       "      <td>7300</td>\n",
       "      <td>5380</td>\n",
       "      <td>737</td>\n",
       "    </tr>\n",
       "    <tr>\n",
       "      <th>64</th>\n",
       "      <td>23010</td>\n",
       "      <td>558340</td>\n",
       "      <td>24265</td>\n",
       "    </tr>\n",
       "    <tr>\n",
       "      <th>80</th>\n",
       "      <td>59477</td>\n",
       "      <td>2247990</td>\n",
       "      <td>37796</td>\n",
       "    </tr>\n",
       "    <tr>\n",
       "      <th>88</th>\n",
       "      <td>13554</td>\n",
       "      <td>17624</td>\n",
       "      <td>1300</td>\n",
       "    </tr>\n",
       "  </tbody>\n",
       "</table>\n",
       "</div>"
      ],
      "text/plain": [
       "     Area  Production  Yield\n",
       "25  81570      640910   7857\n",
       "46   7300        5380    737\n",
       "64  23010      558340  24265\n",
       "80  59477     2247990  37796\n",
       "88  13554       17624   1300"
      ]
     },
     "execution_count": 4,
     "metadata": {},
     "output_type": "execute_result"
    }
   ],
   "source": [
    "# shuffling data\n",
    "agri_data = data.iloc[np.random.permutation(len(data))]\n",
    "trunc_data = agri_data[[\"Area\", \"Production\", \"Yield\"]]\n",
    "trunc_data.iloc[:5,:]"
   ]
  },
  {
   "cell_type": "code",
   "execution_count": 5,
   "metadata": {},
   "outputs": [
    {
     "data": {
      "text/html": [
       "<div>\n",
       "<style scoped>\n",
       "    .dataframe tbody tr th:only-of-type {\n",
       "        vertical-align: middle;\n",
       "    }\n",
       "\n",
       "    .dataframe tbody tr th {\n",
       "        vertical-align: top;\n",
       "    }\n",
       "\n",
       "    .dataframe thead th {\n",
       "        text-align: right;\n",
       "    }\n",
       "</style>\n",
       "<table border=\"1\" class=\"dataframe\">\n",
       "  <thead>\n",
       "    <tr style=\"text-align: right;\">\n",
       "      <th></th>\n",
       "      <th>Area</th>\n",
       "      <th>Production</th>\n",
       "      <th>Yield</th>\n",
       "    </tr>\n",
       "  </thead>\n",
       "  <tbody>\n",
       "    <tr>\n",
       "      <th>25</th>\n",
       "      <td>0.428349</td>\n",
       "      <td>0.269732</td>\n",
       "      <td>0.195365</td>\n",
       "    </tr>\n",
       "    <tr>\n",
       "      <th>46</th>\n",
       "      <td>0.038334</td>\n",
       "      <td>0.002264</td>\n",
       "      <td>0.018326</td>\n",
       "    </tr>\n",
       "    <tr>\n",
       "      <th>64</th>\n",
       "      <td>0.120832</td>\n",
       "      <td>0.234981</td>\n",
       "      <td>0.603352</td>\n",
       "    </tr>\n",
       "    <tr>\n",
       "      <th>80</th>\n",
       "      <td>0.312332</td>\n",
       "      <td>0.946083</td>\n",
       "      <td>0.939802</td>\n",
       "    </tr>\n",
       "    <tr>\n",
       "      <th>88</th>\n",
       "      <td>0.071176</td>\n",
       "      <td>0.007417</td>\n",
       "      <td>0.032325</td>\n",
       "    </tr>\n",
       "  </tbody>\n",
       "</table>\n",
       "</div>"
      ],
      "text/plain": [
       "        Area  Production     Yield\n",
       "25  0.428349    0.269732  0.195365\n",
       "46  0.038334    0.002264  0.018326\n",
       "64  0.120832    0.234981  0.603352\n",
       "80  0.312332    0.946083  0.939802\n",
       "88  0.071176    0.007417  0.032325"
      ]
     },
     "execution_count": 5,
     "metadata": {},
     "output_type": "execute_result"
    }
   ],
   "source": [
    "# (custom choice for) normalizing data\n",
    "trunc_data = trunc_data / trunc_data.max()\n",
    "trunc_data.iloc[:5,:]"
   ]
  },
  {
   "cell_type": "markdown",
   "metadata": {},
   "source": [
    "## Loading SOM utils"
   ]
  },
  {
   "cell_type": "code",
   "execution_count": 6,
   "metadata": {},
   "outputs": [],
   "source": [
    "from scripts.som_utils import neighborhood_preservation_trustworthiness\n",
    "from scripts.som_utils import som_train_predict\n",
    "from scripts.som_utils import visualize_som"
   ]
  },
  {
   "cell_type": "markdown",
   "metadata": {},
   "source": [
    "## Base SOM (SOM1)"
   ]
  },
  {
   "cell_type": "code",
   "execution_count": 7,
   "metadata": {},
   "outputs": [
    {
     "name": "stdout",
     "output_type": "stream",
     "text": [
      "SOM training epoches 2\n",
      "neighborhood radius  2.6878753795222865\n",
      "learning rate  0.009048374180359595\n",
      "-------------------------------------\n",
      "SOM training epoches 4\n",
      "neighborhood radius  2.4082246852806923\n",
      "learning rate  0.008187307530779819\n",
      "-------------------------------------\n",
      "SOM training epoches 6\n",
      "neighborhood radius  2.157669279974593\n",
      "learning rate  0.007408182206817179\n",
      "-------------------------------------\n",
      "SOM training epoches 8\n",
      "neighborhood radius  1.9331820449317627\n",
      "learning rate  0.006703200460356393\n",
      "-------------------------------------\n",
      "SOM training epoches 10\n",
      "neighborhood radius  1.7320508075688772\n",
      "learning rate  0.006065306597126334\n",
      "-------------------------------------\n",
      "SOM training epoches 12\n",
      "neighborhood radius  1.5518455739153594\n",
      "learning rate  0.005488116360940264\n",
      "-------------------------------------\n",
      "SOM training epoches 14\n",
      "neighborhood radius  1.3903891703159093\n",
      "learning rate  0.004965853037914096\n",
      "-------------------------------------\n",
      "SOM training epoches 16\n",
      "neighborhood radius  1.2457309396155172\n",
      "learning rate  0.004493289641172216\n",
      "-------------------------------------\n",
      "SOM training epoches 18\n",
      "neighborhood radius  1.1161231740339044\n",
      "learning rate  0.004065696597405992\n",
      "-------------------------------------\n",
      "SOM training epoches 20\n",
      "neighborhood radius  1.0\n",
      "learning rate  0.0036787944117144234\n",
      "-------------------------------------\n"
     ]
    },
    {
     "data": {
      "image/png": "[encoded data removed]",
      "text/plain": [
       "<Figure size 432x288 with 10 Axes>"
      ]
     },
     "metadata": {
      "needs_background": "light"
     },
     "output_type": "display_data"
    },
    {
     "data": {
      "text/html": [
       "<div>\n",
       "<style scoped>\n",
       "    .dataframe tbody tr th:only-of-type {\n",
       "        vertical-align: middle;\n",
       "    }\n",
       "\n",
       "    .dataframe tbody tr th {\n",
       "        vertical-align: top;\n",
       "    }\n",
       "\n",
       "    .dataframe thead th {\n",
       "        text-align: right;\n",
       "    }\n",
       "</style>\n",
       "<table border=\"1\" class=\"dataframe\">\n",
       "  <thead>\n",
       "    <tr style=\"text-align: right;\">\n",
       "      <th></th>\n",
       "      <th>Year AD</th>\n",
       "      <th>Year BS</th>\n",
       "      <th>Crop</th>\n",
       "      <th>Area</th>\n",
       "      <th>Production</th>\n",
       "      <th>Yield</th>\n",
       "      <th>Area_norm</th>\n",
       "      <th>Production_norm</th>\n",
       "      <th>Yield_norm</th>\n",
       "      <th>bmu</th>\n",
       "      <th>bmu_idx</th>\n",
       "    </tr>\n",
       "  </thead>\n",
       "  <tbody>\n",
       "    <tr>\n",
       "      <th>25</th>\n",
       "      <td>1988/89</td>\n",
       "      <td>2045/46</td>\n",
       "      <td>POTATO</td>\n",
       "      <td>81570</td>\n",
       "      <td>640910</td>\n",
       "      <td>7857</td>\n",
       "      <td>0.428349</td>\n",
       "      <td>0.269732</td>\n",
       "      <td>0.195365</td>\n",
       "      <td>[[0.388651091066612, 0.30249209625975726, 0.27...</td>\n",
       "      <td>[1, 1]</td>\n",
       "    </tr>\n",
       "    <tr>\n",
       "      <th>46</th>\n",
       "      <td>1988/89</td>\n",
       "      <td>2045/46</td>\n",
       "      <td>TOBACCO</td>\n",
       "      <td>7300</td>\n",
       "      <td>5380</td>\n",
       "      <td>737</td>\n",
       "      <td>0.038334</td>\n",
       "      <td>0.002264</td>\n",
       "      <td>0.018326</td>\n",
       "      <td>[[0.083069684832033, 0.019810485744066075, 0.0...</td>\n",
       "      <td>[2, 0]</td>\n",
       "    </tr>\n",
       "    <tr>\n",
       "      <th>64</th>\n",
       "      <td>1985/86</td>\n",
       "      <td>2042/43</td>\n",
       "      <td>SUGARCANE</td>\n",
       "      <td>23010</td>\n",
       "      <td>558340</td>\n",
       "      <td>24265</td>\n",
       "      <td>0.120832</td>\n",
       "      <td>0.234981</td>\n",
       "      <td>0.603352</td>\n",
       "      <td>[[0.2283318948327799, 0.5121302198425589, 0.67...</td>\n",
       "      <td>[0, 0]</td>\n",
       "    </tr>\n",
       "    <tr>\n",
       "      <th>80</th>\n",
       "      <td>2001/2002</td>\n",
       "      <td>2058/59</td>\n",
       "      <td>SUGARCANE</td>\n",
       "      <td>59477</td>\n",
       "      <td>2247990</td>\n",
       "      <td>37796</td>\n",
       "      <td>0.312332</td>\n",
       "      <td>0.946083</td>\n",
       "      <td>0.939802</td>\n",
       "      <td>[[0.2283318948327799, 0.5121302198425589, 0.67...</td>\n",
       "      <td>[0, 0]</td>\n",
       "    </tr>\n",
       "    <tr>\n",
       "      <th>88</th>\n",
       "      <td>1988/89</td>\n",
       "      <td>2045/46</td>\n",
       "      <td>JUTE</td>\n",
       "      <td>13554</td>\n",
       "      <td>17624</td>\n",
       "      <td>1300</td>\n",
       "      <td>0.071176</td>\n",
       "      <td>0.007417</td>\n",
       "      <td>0.032325</td>\n",
       "      <td>[[0.083069684832033, 0.019810485744066075, 0.0...</td>\n",
       "      <td>[2, 0]</td>\n",
       "    </tr>\n",
       "  </tbody>\n",
       "</table>\n",
       "</div>"
      ],
      "text/plain": [
       "      Year AD  Year BS       Crop   Area  Production  Yield  Area_norm  \\\n",
       "25    1988/89  2045/46     POTATO  81570      640910   7857   0.428349   \n",
       "46    1988/89  2045/46    TOBACCO   7300        5380    737   0.038334   \n",
       "64    1985/86  2042/43  SUGARCANE  23010      558340  24265   0.120832   \n",
       "80  2001/2002  2058/59  SUGARCANE  59477     2247990  37796   0.312332   \n",
       "88    1988/89  2045/46       JUTE  13554       17624   1300   0.071176   \n",
       "\n",
       "    Production_norm  Yield_norm  \\\n",
       "25         0.269732    0.195365   \n",
       "46         0.002264    0.018326   \n",
       "64         0.234981    0.603352   \n",
       "80         0.946083    0.939802   \n",
       "88         0.007417    0.032325   \n",
       "\n",
       "                                                  bmu bmu_idx  \n",
       "25  [[0.388651091066612, 0.30249209625975726, 0.27...  [1, 1]  \n",
       "46  [[0.083069684832033, 0.019810485744066075, 0.0...  [2, 0]  \n",
       "64  [[0.2283318948327799, 0.5121302198425589, 0.67...  [0, 0]  \n",
       "80  [[0.2283318948327799, 0.5121302198425589, 0.67...  [0, 0]  \n",
       "88  [[0.083069684832033, 0.019810485744066075, 0.0...  [2, 0]  "
      ]
     },
     "execution_count": 7,
     "metadata": {},
     "output_type": "execute_result"
    }
   ],
   "source": [
    "from scripts.our_som1 import SOM as SOM_1_base\n",
    "# som = SOM(x_size, y_size, num_features)\n",
    "som_1 = SOM_1_base(3,3,3)\n",
    "joined_df, clustered_df = som_train_predict(som_1, trunc_data, agri_data, num_epochs=20, init_learning_rate=0.01)\n",
    "joined_df.iloc[0:5]"
   ]
  },
  {
   "cell_type": "code",
   "execution_count": 8,
   "metadata": {},
   "outputs": [
    {
     "data": {
      "image/png": "[encoded data removed]",
      "text/plain": [
       "<Figure size 432x288 with 1 Axes>"
      ]
     },
     "metadata": {
      "needs_background": "light"
     },
     "output_type": "display_data"
    }
   ],
   "source": [
    "visualize_som(som_1, joined_df)"
   ]
  },
  {
   "cell_type": "code",
   "execution_count": 9,
   "metadata": {},
   "outputs": [
    {
     "data": {
      "text/html": [
       "<div>\n",
       "<style scoped>\n",
       "    .dataframe tbody tr th:only-of-type {\n",
       "        vertical-align: middle;\n",
       "    }\n",
       "\n",
       "    .dataframe tbody tr th {\n",
       "        vertical-align: top;\n",
       "    }\n",
       "\n",
       "    .dataframe thead th {\n",
       "        text-align: right;\n",
       "    }\n",
       "</style>\n",
       "<table border=\"1\" class=\"dataframe\">\n",
       "  <thead>\n",
       "    <tr style=\"text-align: right;\">\n",
       "      <th></th>\n",
       "      <th>Area</th>\n",
       "      <th>Production</th>\n",
       "      <th>Yield</th>\n",
       "    </tr>\n",
       "  </thead>\n",
       "  <tbody>\n",
       "    <tr>\n",
       "      <th>25</th>\n",
       "      <td>0.428349</td>\n",
       "      <td>0.269732</td>\n",
       "      <td>0.195365</td>\n",
       "    </tr>\n",
       "    <tr>\n",
       "      <th>46</th>\n",
       "      <td>0.038334</td>\n",
       "      <td>0.002264</td>\n",
       "      <td>0.018326</td>\n",
       "    </tr>\n",
       "    <tr>\n",
       "      <th>64</th>\n",
       "      <td>0.120832</td>\n",
       "      <td>0.234981</td>\n",
       "      <td>0.603352</td>\n",
       "    </tr>\n",
       "    <tr>\n",
       "      <th>80</th>\n",
       "      <td>0.312332</td>\n",
       "      <td>0.946083</td>\n",
       "      <td>0.939802</td>\n",
       "    </tr>\n",
       "    <tr>\n",
       "      <th>88</th>\n",
       "      <td>0.071176</td>\n",
       "      <td>0.007417</td>\n",
       "      <td>0.032325</td>\n",
       "    </tr>\n",
       "  </tbody>\n",
       "</table>\n",
       "</div>"
      ],
      "text/plain": [
       "        Area  Production     Yield\n",
       "25  0.428349    0.269732  0.195365\n",
       "46  0.038334    0.002264  0.018326\n",
       "64  0.120832    0.234981  0.603352\n",
       "80  0.312332    0.946083  0.939802\n",
       "88  0.071176    0.007417  0.032325"
      ]
     },
     "execution_count": 9,
     "metadata": {},
     "output_type": "execute_result"
    }
   ],
   "source": [
    "trunc_data.head()"
   ]
  },
  {
   "cell_type": "code",
   "execution_count": 10,
   "metadata": {},
   "outputs": [
    {
     "data": {
      "text/html": [
       "<div>\n",
       "<style scoped>\n",
       "    .dataframe tbody tr th:only-of-type {\n",
       "        vertical-align: middle;\n",
       "    }\n",
       "\n",
       "    .dataframe tbody tr th {\n",
       "        vertical-align: top;\n",
       "    }\n",
       "\n",
       "    .dataframe thead th {\n",
       "        text-align: right;\n",
       "    }\n",
       "</style>\n",
       "<table border=\"1\" class=\"dataframe\">\n",
       "  <thead>\n",
       "    <tr style=\"text-align: right;\">\n",
       "      <th></th>\n",
       "      <th>0</th>\n",
       "      <th>1</th>\n",
       "      <th>2</th>\n",
       "    </tr>\n",
       "  </thead>\n",
       "  <tbody>\n",
       "    <tr>\n",
       "      <th>25</th>\n",
       "      <td>0.388651</td>\n",
       "      <td>0.302492</td>\n",
       "      <td>0.274863</td>\n",
       "    </tr>\n",
       "    <tr>\n",
       "      <th>46</th>\n",
       "      <td>0.083070</td>\n",
       "      <td>0.019810</td>\n",
       "      <td>0.044247</td>\n",
       "    </tr>\n",
       "    <tr>\n",
       "      <th>64</th>\n",
       "      <td>0.228332</td>\n",
       "      <td>0.512130</td>\n",
       "      <td>0.671600</td>\n",
       "    </tr>\n",
       "    <tr>\n",
       "      <th>80</th>\n",
       "      <td>0.228332</td>\n",
       "      <td>0.512130</td>\n",
       "      <td>0.671600</td>\n",
       "    </tr>\n",
       "    <tr>\n",
       "      <th>88</th>\n",
       "      <td>0.083070</td>\n",
       "      <td>0.019810</td>\n",
       "      <td>0.044247</td>\n",
       "    </tr>\n",
       "  </tbody>\n",
       "</table>\n",
       "</div>"
      ],
      "text/plain": [
       "           0         1         2\n",
       "25  0.388651  0.302492  0.274863\n",
       "46  0.083070  0.019810  0.044247\n",
       "64  0.228332  0.512130  0.671600\n",
       "80  0.228332  0.512130  0.671600\n",
       "88  0.083070  0.019810  0.044247"
      ]
     },
     "execution_count": 10,
     "metadata": {},
     "output_type": "execute_result"
    }
   ],
   "source": [
    "cd = pd.DataFrame(clustered_df['bmu'].apply(lambda x: x[0].tolist()), index = trunc_data.index)\n",
    "cd = cd.bmu.apply(list).apply(pd.Series).astype(float)\n",
    "cd.head()"
   ]
  },
  {
   "cell_type": "markdown",
   "metadata": {},
   "source": [
    "<br /> <br />"
   ]
  },
  {
   "cell_type": "markdown",
   "metadata": {},
   "source": [
    "## **Q1:** What is the numeric criteria that you may use to determine if a change in the algorithm produces improvements?"
   ]
  },
  {
   "cell_type": "markdown",
   "metadata": {},
   "source": [
    "Throughout this assignment, we will be exploring different changes to the proposed algorithm, and their impact in results. Thus, we are in need of a numerical criteria that will allow us to measure results. For this reason, we are going to use the metrics of neighbourhood preservation and trustworthiness. These measure how the projection preserves the neighborhoods present in the input space by ranking the k-nearest neighbors of each sample before and after projection. The implementation of this criteria is in function `neighborhood_preservation_trustworthiness` inside `soms/som_utils.py` file."
   ]
  },
  {
   "cell_type": "code",
   "execution_count": 11,
   "metadata": {},
   "outputs": [
    {
     "data": {
      "text/plain": [
       "(0.7812297734627831, 0.8759402051467877)"
      ]
     },
     "execution_count": 11,
     "metadata": {},
     "output_type": "execute_result"
    }
   ],
   "source": [
    "neighborhood_preservation_trustworthiness(1, trunc_data, cd)"
   ]
  },
  {
   "cell_type": "markdown",
   "metadata": {},
   "source": [
    "<br /> <br />"
   ]
  },
  {
   "cell_type": "markdown",
   "metadata": {},
   "source": [
    "## **Q2:** Write the version SOM1A, where you change the curve of the learning factor. Did you achieve improvements?"
   ]
  },
  {
   "cell_type": "markdown",
   "metadata": {},
   "source": [
    "The learning rate controls the size of weight vector. Therefore, chosing its decay function is important. There are many learning rate functions, like the power series implemented in `scripts/our_som1.py`. We found that a linear learning rate, implemented in `scripts/our_som1_A.py`, improves the algorithm performance, as shown by comparing the measurement function results."
   ]
  },
  {
   "cell_type": "code",
   "execution_count": 12,
   "metadata": {},
   "outputs": [
    {
     "name": "stdout",
     "output_type": "stream",
     "text": [
      "SOM training epoches 2\n",
      "neighborhood radius  2.6878753795222865\n",
      "learning rate  0.005\n",
      "-------------------------------------\n",
      "SOM training epoches 4\n",
      "neighborhood radius  2.4082246852806923\n",
      "learning rate  0.0025\n",
      "-------------------------------------\n",
      "SOM training epoches 6\n",
      "neighborhood radius  2.157669279974593\n",
      "learning rate  0.0016666666666666666\n",
      "-------------------------------------\n",
      "SOM training epoches 8\n",
      "neighborhood radius  1.9331820449317627\n",
      "learning rate  0.00125\n",
      "-------------------------------------\n",
      "SOM training epoches 10\n",
      "neighborhood radius  1.7320508075688772\n",
      "learning rate  0.001\n",
      "-------------------------------------\n",
      "SOM training epoches 12\n",
      "neighborhood radius  1.5518455739153594\n",
      "learning rate  0.0008333333333333333\n",
      "-------------------------------------\n",
      "SOM training epoches 14\n",
      "neighborhood radius  1.3903891703159093\n",
      "learning rate  0.0007142857142857143\n",
      "-------------------------------------\n",
      "SOM training epoches 16\n",
      "neighborhood radius  1.2457309396155172\n",
      "learning rate  0.000625\n",
      "-------------------------------------\n",
      "SOM training epoches 18\n",
      "neighborhood radius  1.1161231740339044\n",
      "learning rate  0.0005555555555555556\n",
      "-------------------------------------\n",
      "SOM training epoches 20\n",
      "neighborhood radius  1.0\n",
      "learning rate  0.0005\n",
      "-------------------------------------\n"
     ]
    },
    {
     "data": {
      "image/png": "[encoded data removed]",
      "text/plain": [
       "<Figure size 432x288 with 10 Axes>"
      ]
     },
     "metadata": {
      "needs_background": "light"
     },
     "output_type": "display_data"
    }
   ],
   "source": [
    "from scripts.our_som1_A import SOM as SOM_1_A\n",
    "# som = SOM(x_size, y_size, num_features)\n",
    "som_1_A = SOM_1_A(3,3,3)\n",
    "joined_df, clustered_df = som_train_predict(som_1_A, trunc_data, agri_data, num_epochs=20, init_learning_rate=0.01)\n",
    "#joined_df.iloc[0:5]"
   ]
  },
  {
   "cell_type": "code",
   "execution_count": 13,
   "metadata": {},
   "outputs": [
    {
     "data": {
      "image/png": "[encoded data removed]",
      "text/plain": [
       "<Figure size 432x288 with 1 Axes>"
      ]
     },
     "metadata": {
      "needs_background": "light"
     },
     "output_type": "display_data"
    }
   ],
   "source": [
    "visualize_som(som_1_A, joined_df)"
   ]
  },
  {
   "cell_type": "code",
   "execution_count": 14,
   "metadata": {},
   "outputs": [],
   "source": [
    "cd = pd.DataFrame(clustered_df['bmu'].apply(lambda x: x[0].tolist()), index = trunc_data.index)\n",
    "cd = cd.bmu.apply(list).apply(pd.Series).astype(float)"
   ]
  },
  {
   "cell_type": "code",
   "execution_count": 15,
   "metadata": {},
   "outputs": [
    {
     "data": {
      "text/plain": [
       "(0.765880721220527, 0.8082880841238724)"
      ]
     },
     "execution_count": 15,
     "metadata": {},
     "output_type": "execute_result"
    }
   ],
   "source": [
    "neighborhood_preservation_trustworthiness(1, trunc_data, cd)"
   ]
  },
  {
   "cell_type": "markdown",
   "metadata": {},
   "source": [
    "<br /> <br />"
   ]
  },
  {
   "cell_type": "markdown",
   "metadata": {},
   "source": [
    "## **Q3:** Write the version SOM1B, where you change the curve of the deviation. Did you achieve improvements?"
   ]
  },
  {
   "cell_type": "code",
   "execution_count": null,
   "metadata": {},
   "outputs": [],
   "source": []
  },
  {
   "cell_type": "code",
   "execution_count": null,
   "metadata": {},
   "outputs": [],
   "source": []
  },
  {
   "cell_type": "code",
   "execution_count": null,
   "metadata": {},
   "outputs": [],
   "source": []
  },
  {
   "cell_type": "code",
   "execution_count": null,
   "metadata": {},
   "outputs": [],
   "source": []
  },
  {
   "cell_type": "markdown",
   "metadata": {},
   "source": [
    "<br /> <br />"
   ]
  },
  {
   "cell_type": "markdown",
   "metadata": {},
   "source": [
    "## **Q4:** Write the version SOM1C, where you change the normal distribution to other distribution of your choice. Did you achieve improvements?"
   ]
  },
  {
   "cell_type": "code",
   "execution_count": null,
   "metadata": {},
   "outputs": [],
   "source": []
  },
  {
   "cell_type": "code",
   "execution_count": null,
   "metadata": {},
   "outputs": [],
   "source": []
  },
  {
   "cell_type": "code",
   "execution_count": null,
   "metadata": {},
   "outputs": [],
   "source": []
  },
  {
   "cell_type": "code",
   "execution_count": null,
   "metadata": {},
   "outputs": [],
   "source": []
  }
 ],
 "metadata": {
  "kernelspec": {
   "display_name": "Python 3 (ipykernel)",
   "language": "python",
   "name": "python3"
  },
  "language_info": {
   "codemirror_mode": {
    "name": "ipython",
    "version": 3
   },
   "file_extension": ".py",
   "mimetype": "text/x-python",
   "name": "python",
   "nbconvert_exporter": "python",
   "pygments_lexer": "ipython3",
   "version": "3.8.5"
  }
 },
 "nbformat": 4,
 "nbformat_minor": 4
}
