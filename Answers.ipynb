{
 "cells": [
  {
   "cell_type": "markdown",
   "metadata": {
    "tags": []
   },
   "source": [
    "# **Mathematical Tools for Big Data - Assignment 3**\n",
    "\n",
    "### **Students :**\n",
    "- **Alexandra de Carvalho** (93346)\n",
    "- **Diogo Pedrosa** (xxxxx)\n",
    "- **Roshan Poudel** (109806)"
   ]
  },
  {
   "cell_type": "markdown",
   "metadata": {},
   "source": [
    "## **Common Steps**"
   ]
  },
  {
   "cell_type": "markdown",
   "metadata": {},
   "source": [
    "## Reading and General data analysis"
   ]
  },
  {
   "cell_type": "code",
   "execution_count": 98,
   "metadata": {},
   "outputs": [
    {
     "data": {
      "text/html": [
       "<div>\n",
       "<style scoped>\n",
       "    .dataframe tbody tr th:only-of-type {\n",
       "        vertical-align: middle;\n",
       "    }\n",
       "\n",
       "    .dataframe tbody tr th {\n",
       "        vertical-align: top;\n",
       "    }\n",
       "\n",
       "    .dataframe thead th {\n",
       "        text-align: right;\n",
       "    }\n",
       "</style>\n",
       "<table border=\"1\" class=\"dataframe\">\n",
       "  <thead>\n",
       "    <tr style=\"text-align: right;\">\n",
       "      <th></th>\n",
       "      <th>Year AD</th>\n",
       "      <th>Year BS</th>\n",
       "      <th>Crop</th>\n",
       "      <th>Area</th>\n",
       "      <th>Production</th>\n",
       "      <th>Yield</th>\n",
       "    </tr>\n",
       "  </thead>\n",
       "  <tbody>\n",
       "    <tr>\n",
       "      <th>0</th>\n",
       "      <td>1984/85</td>\n",
       "      <td>2041/42</td>\n",
       "      <td>OILSEED</td>\n",
       "      <td>127820</td>\n",
       "      <td>84030</td>\n",
       "      <td>657</td>\n",
       "    </tr>\n",
       "    <tr>\n",
       "      <th>1</th>\n",
       "      <td>1985/86</td>\n",
       "      <td>2042/43</td>\n",
       "      <td>OILSEED</td>\n",
       "      <td>137920</td>\n",
       "      <td>78390</td>\n",
       "      <td>568</td>\n",
       "    </tr>\n",
       "    <tr>\n",
       "      <th>2</th>\n",
       "      <td>1986/87</td>\n",
       "      <td>2043/44</td>\n",
       "      <td>OILSEED</td>\n",
       "      <td>142890</td>\n",
       "      <td>82500</td>\n",
       "      <td>577</td>\n",
       "    </tr>\n",
       "    <tr>\n",
       "      <th>3</th>\n",
       "      <td>1987/88</td>\n",
       "      <td>2044/45</td>\n",
       "      <td>OILSEED</td>\n",
       "      <td>151490</td>\n",
       "      <td>94370</td>\n",
       "      <td>623</td>\n",
       "    </tr>\n",
       "    <tr>\n",
       "      <th>4</th>\n",
       "      <td>1988/89</td>\n",
       "      <td>2045/46</td>\n",
       "      <td>OILSEED</td>\n",
       "      <td>154860</td>\n",
       "      <td>99190</td>\n",
       "      <td>641</td>\n",
       "    </tr>\n",
       "  </tbody>\n",
       "</table>\n",
       "</div>"
      ],
      "text/plain": [
       "   Year AD  Year BS     Crop    Area  Production  Yield\n",
       "0  1984/85  2041/42  OILSEED  127820       84030    657\n",
       "1  1985/86  2042/43  OILSEED  137920       78390    568\n",
       "2  1986/87  2043/44  OILSEED  142890       82500    577\n",
       "3  1987/88  2044/45  OILSEED  151490       94370    623\n",
       "4  1988/89  2045/46  OILSEED  154860       99190    641"
      ]
     },
     "execution_count": 98,
     "metadata": {},
     "output_type": "execute_result"
    }
   ],
   "source": [
    "import pandas as pd\n",
    "import numpy as np\n",
    "import random\n",
    "\n",
    "random.seed(2022)\n",
    "# reading data\n",
    "data = pd.read_csv(\"data/cash-crops-nepal.csv\")\n",
    "# visualize some data\n",
    "data.iloc[:5,:]"
   ]
  },
  {
   "cell_type": "code",
   "execution_count": 99,
   "metadata": {},
   "outputs": [
    {
     "data": {
      "text/plain": [
       "(105, 6)"
      ]
     },
     "execution_count": 99,
     "metadata": {},
     "output_type": "execute_result"
    }
   ],
   "source": [
    "data.shape"
   ]
  },
  {
   "cell_type": "code",
   "execution_count": 100,
   "metadata": {},
   "outputs": [
    {
     "name": "stdout",
     "output_type": "stream",
     "text": [
      "['OILSEED' 'POTATO' 'TOBACCO' 'SUGARCANE' 'JUTE']\n"
     ]
    }
   ],
   "source": [
    "# What are the different crops\n",
    "print(data.iloc[:,2].unique())"
   ]
  },
  {
   "cell_type": "code",
   "execution_count": 101,
   "metadata": {},
   "outputs": [
    {
     "data": {
      "text/html": [
       "<div>\n",
       "<style scoped>\n",
       "    .dataframe tbody tr th:only-of-type {\n",
       "        vertical-align: middle;\n",
       "    }\n",
       "\n",
       "    .dataframe tbody tr th {\n",
       "        vertical-align: top;\n",
       "    }\n",
       "\n",
       "    .dataframe thead th {\n",
       "        text-align: right;\n",
       "    }\n",
       "</style>\n",
       "<table border=\"1\" class=\"dataframe\">\n",
       "  <thead>\n",
       "    <tr style=\"text-align: right;\">\n",
       "      <th></th>\n",
       "      <th>Area</th>\n",
       "      <th>Production</th>\n",
       "      <th>Yield</th>\n",
       "    </tr>\n",
       "  </thead>\n",
       "  <tbody>\n",
       "    <tr>\n",
       "      <th>78</th>\n",
       "      <td>58126</td>\n",
       "      <td>2103426</td>\n",
       "      <td>36187</td>\n",
       "    </tr>\n",
       "    <tr>\n",
       "      <th>90</th>\n",
       "      <td>14000</td>\n",
       "      <td>16000</td>\n",
       "      <td>1143</td>\n",
       "    </tr>\n",
       "    <tr>\n",
       "      <th>65</th>\n",
       "      <td>24910</td>\n",
       "      <td>616580</td>\n",
       "      <td>24752</td>\n",
       "    </tr>\n",
       "    <tr>\n",
       "      <th>3</th>\n",
       "      <td>151490</td>\n",
       "      <td>94370</td>\n",
       "      <td>623</td>\n",
       "    </tr>\n",
       "    <tr>\n",
       "      <th>10</th>\n",
       "      <td>184460</td>\n",
       "      <td>116300</td>\n",
       "      <td>630</td>\n",
       "    </tr>\n",
       "  </tbody>\n",
       "</table>\n",
       "</div>"
      ],
      "text/plain": [
       "      Area  Production  Yield\n",
       "78   58126     2103426  36187\n",
       "90   14000       16000   1143\n",
       "65   24910      616580  24752\n",
       "3   151490       94370    623\n",
       "10  184460      116300    630"
      ]
     },
     "execution_count": 101,
     "metadata": {},
     "output_type": "execute_result"
    }
   ],
   "source": [
    "# shuffling data\n",
    "agri_data = data.iloc[np.random.permutation(len(data))]\n",
    "trunc_data = agri_data[[\"Area\", \"Production\", \"Yield\"]]\n",
    "trunc_data.iloc[:5,:]"
   ]
  },
  {
   "cell_type": "code",
   "execution_count": 102,
   "metadata": {},
   "outputs": [
    {
     "data": {
      "text/html": [
       "<div>\n",
       "<style scoped>\n",
       "    .dataframe tbody tr th:only-of-type {\n",
       "        vertical-align: middle;\n",
       "    }\n",
       "\n",
       "    .dataframe tbody tr th {\n",
       "        vertical-align: top;\n",
       "    }\n",
       "\n",
       "    .dataframe thead th {\n",
       "        text-align: right;\n",
       "    }\n",
       "</style>\n",
       "<table border=\"1\" class=\"dataframe\">\n",
       "  <thead>\n",
       "    <tr style=\"text-align: right;\">\n",
       "      <th></th>\n",
       "      <th>Area</th>\n",
       "      <th>Production</th>\n",
       "      <th>Yield</th>\n",
       "    </tr>\n",
       "  </thead>\n",
       "  <tbody>\n",
       "    <tr>\n",
       "      <th>78</th>\n",
       "      <td>0.305237</td>\n",
       "      <td>0.885242</td>\n",
       "      <td>0.899794</td>\n",
       "    </tr>\n",
       "    <tr>\n",
       "      <th>90</th>\n",
       "      <td>0.073518</td>\n",
       "      <td>0.006734</td>\n",
       "      <td>0.028421</td>\n",
       "    </tr>\n",
       "    <tr>\n",
       "      <th>65</th>\n",
       "      <td>0.130810</td>\n",
       "      <td>0.259492</td>\n",
       "      <td>0.615461</td>\n",
       "    </tr>\n",
       "    <tr>\n",
       "      <th>3</th>\n",
       "      <td>0.795520</td>\n",
       "      <td>0.039716</td>\n",
       "      <td>0.015491</td>\n",
       "    </tr>\n",
       "    <tr>\n",
       "      <th>10</th>\n",
       "      <td>0.968655</td>\n",
       "      <td>0.048946</td>\n",
       "      <td>0.015665</td>\n",
       "    </tr>\n",
       "  </tbody>\n",
       "</table>\n",
       "</div>"
      ],
      "text/plain": [
       "        Area  Production     Yield\n",
       "78  0.305237    0.885242  0.899794\n",
       "90  0.073518    0.006734  0.028421\n",
       "65  0.130810    0.259492  0.615461\n",
       "3   0.795520    0.039716  0.015491\n",
       "10  0.968655    0.048946  0.015665"
      ]
     },
     "execution_count": 102,
     "metadata": {},
     "output_type": "execute_result"
    }
   ],
   "source": [
    "# (custom choice for) normalizing data\n",
    "trunc_data = trunc_data / trunc_data.max()\n",
    "trunc_data.iloc[:5,:]"
   ]
  },
  {
   "cell_type": "markdown",
   "metadata": {},
   "source": [
    "## Loading SOM utils"
   ]
  },
  {
   "cell_type": "code",
   "execution_count": 103,
   "metadata": {},
   "outputs": [],
   "source": [
    "from scripts.som_utils import neighborhood_preservation_trustworthiness\n",
    "from scripts.som_utils import som_train_predict\n",
    "from scripts.som_utils import visualize_som"
   ]
  },
  {
   "cell_type": "markdown",
   "metadata": {},
   "source": [
    "## Base SOM (SOM1)"
   ]
  },
  {
   "cell_type": "code",
   "execution_count": 104,
   "metadata": {},
   "outputs": [
    {
     "name": "stdout",
     "output_type": "stream",
     "text": [
      "SOM training epoches 2\n",
      "neighborhood radius  2.6878753795222865\n",
      "learning rate  0.009048374180359595\n",
      "-------------------------------------\n",
      "SOM training epoches 4\n",
      "neighborhood radius  2.4082246852806923\n",
      "learning rate  0.008187307530779819\n",
      "-------------------------------------\n",
      "SOM training epoches 6\n",
      "neighborhood radius  2.157669279974593\n",
      "learning rate  0.007408182206817179\n",
      "-------------------------------------\n",
      "SOM training epoches 8\n",
      "neighborhood radius  1.9331820449317627\n",
      "learning rate  0.006703200460356393\n",
      "-------------------------------------\n",
      "SOM training epoches 10\n",
      "neighborhood radius  1.7320508075688772\n",
      "learning rate  0.006065306597126334\n",
      "-------------------------------------\n",
      "SOM training epoches 12\n",
      "neighborhood radius  1.5518455739153594\n",
      "learning rate  0.005488116360940264\n",
      "-------------------------------------\n",
      "SOM training epoches 14\n",
      "neighborhood radius  1.3903891703159093\n",
      "learning rate  0.004965853037914096\n",
      "-------------------------------------\n",
      "SOM training epoches 16\n",
      "neighborhood radius  1.2457309396155172\n",
      "learning rate  0.004493289641172216\n",
      "-------------------------------------\n",
      "SOM training epoches 18\n",
      "neighborhood radius  1.1161231740339044\n",
      "learning rate  0.004065696597405992\n",
      "-------------------------------------\n",
      "SOM training epoches 20\n",
      "neighborhood radius  1.0\n",
      "learning rate  0.0036787944117144234\n",
      "-------------------------------------\n"
     ]
    },
    {
     "data": {
      "image/png": "[encoded data removed]",
      "text/plain": [
       "<Figure size 432x288 with 10 Axes>"
      ]
     },
     "metadata": {
      "needs_background": "light"
     },
     "output_type": "display_data"
    },
    {
     "data": {
      "text/html": [
       "<div>\n",
       "<style scoped>\n",
       "    .dataframe tbody tr th:only-of-type {\n",
       "        vertical-align: middle;\n",
       "    }\n",
       "\n",
       "    .dataframe tbody tr th {\n",
       "        vertical-align: top;\n",
       "    }\n",
       "\n",
       "    .dataframe thead th {\n",
       "        text-align: right;\n",
       "    }\n",
       "</style>\n",
       "<table border=\"1\" class=\"dataframe\">\n",
       "  <thead>\n",
       "    <tr style=\"text-align: right;\">\n",
       "      <th></th>\n",
       "      <th>Year AD</th>\n",
       "      <th>Year BS</th>\n",
       "      <th>Crop</th>\n",
       "      <th>Area</th>\n",
       "      <th>Production</th>\n",
       "      <th>Yield</th>\n",
       "      <th>Area_norm</th>\n",
       "      <th>Production_norm</th>\n",
       "      <th>Yield_norm</th>\n",
       "      <th>bmu</th>\n",
       "      <th>bmu_idx</th>\n",
       "    </tr>\n",
       "  </thead>\n",
       "  <tbody>\n",
       "    <tr>\n",
       "      <th>78</th>\n",
       "      <td>1999/2000</td>\n",
       "      <td>2056/57</td>\n",
       "      <td>SUGARCANE</td>\n",
       "      <td>58126</td>\n",
       "      <td>2103426</td>\n",
       "      <td>36187</td>\n",
       "      <td>0.305237</td>\n",
       "      <td>0.885242</td>\n",
       "      <td>0.899794</td>\n",
       "      <td>[[0.22833997730224462, 0.5181168821323493, 0.6...</td>\n",
       "      <td>[2, 2]</td>\n",
       "    </tr>\n",
       "    <tr>\n",
       "      <th>90</th>\n",
       "      <td>1990/91</td>\n",
       "      <td>2047/48</td>\n",
       "      <td>JUTE</td>\n",
       "      <td>14000</td>\n",
       "      <td>16000</td>\n",
       "      <td>1143</td>\n",
       "      <td>0.073518</td>\n",
       "      <td>0.006734</td>\n",
       "      <td>0.028421</td>\n",
       "      <td>[[0.0813104099919611, 0.020062268618780715, 0....</td>\n",
       "      <td>[2, 0]</td>\n",
       "    </tr>\n",
       "    <tr>\n",
       "      <th>65</th>\n",
       "      <td>1986/87</td>\n",
       "      <td>2043/44</td>\n",
       "      <td>SUGARCANE</td>\n",
       "      <td>24910</td>\n",
       "      <td>616580</td>\n",
       "      <td>24752</td>\n",
       "      <td>0.130810</td>\n",
       "      <td>0.259492</td>\n",
       "      <td>0.615461</td>\n",
       "      <td>[[0.22833997730224462, 0.5181168821323493, 0.6...</td>\n",
       "      <td>[2, 2]</td>\n",
       "    </tr>\n",
       "    <tr>\n",
       "      <th>3</th>\n",
       "      <td>1987/88</td>\n",
       "      <td>2044/45</td>\n",
       "      <td>OILSEED</td>\n",
       "      <td>151490</td>\n",
       "      <td>94370</td>\n",
       "      <td>623</td>\n",
       "      <td>0.795520</td>\n",
       "      <td>0.039716</td>\n",
       "      <td>0.015491</td>\n",
       "      <td>[[0.7398939623990163, 0.11978884686853672, 0.0...</td>\n",
       "      <td>[0, 0]</td>\n",
       "    </tr>\n",
       "    <tr>\n",
       "      <th>10</th>\n",
       "      <td>1994/95</td>\n",
       "      <td>2051/52</td>\n",
       "      <td>OILSEED</td>\n",
       "      <td>184460</td>\n",
       "      <td>116300</td>\n",
       "      <td>630</td>\n",
       "      <td>0.968655</td>\n",
       "      <td>0.048946</td>\n",
       "      <td>0.015665</td>\n",
       "      <td>[[0.7398939623990163, 0.11978884686853672, 0.0...</td>\n",
       "      <td>[0, 0]</td>\n",
       "    </tr>\n",
       "  </tbody>\n",
       "</table>\n",
       "</div>"
      ],
      "text/plain": [
       "      Year AD  Year BS       Crop    Area  Production  Yield  Area_norm  \\\n",
       "78  1999/2000  2056/57  SUGARCANE   58126     2103426  36187   0.305237   \n",
       "90    1990/91  2047/48       JUTE   14000       16000   1143   0.073518   \n",
       "65    1986/87  2043/44  SUGARCANE   24910      616580  24752   0.130810   \n",
       "3     1987/88  2044/45    OILSEED  151490       94370    623   0.795520   \n",
       "10    1994/95  2051/52    OILSEED  184460      116300    630   0.968655   \n",
       "\n",
       "    Production_norm  Yield_norm  \\\n",
       "78         0.885242    0.899794   \n",
       "90         0.006734    0.028421   \n",
       "65         0.259492    0.615461   \n",
       "3          0.039716    0.015491   \n",
       "10         0.048946    0.015665   \n",
       "\n",
       "                                                  bmu bmu_idx  \n",
       "78  [[0.22833997730224462, 0.5181168821323493, 0.6...  [2, 2]  \n",
       "90  [[0.0813104099919611, 0.020062268618780715, 0....  [2, 0]  \n",
       "65  [[0.22833997730224462, 0.5181168821323493, 0.6...  [2, 2]  \n",
       "3   [[0.7398939623990163, 0.11978884686853672, 0.0...  [0, 0]  \n",
       "10  [[0.7398939623990163, 0.11978884686853672, 0.0...  [0, 0]  "
      ]
     },
     "execution_count": 104,
     "metadata": {},
     "output_type": "execute_result"
    }
   ],
   "source": [
    "from scripts.our_som1 import SOM as SOM_1_base\n",
    "# som = SOM(x_size, y_size, num_features)\n",
    "som_1 = SOM_1_base(3,3,3)\n",
    "joined_df, clustered_df = som_train_predict(som_1, trunc_data, agri_data, num_epochs=20, init_learning_rate=0.01)\n",
    "joined_df.iloc[0:5]"
   ]
  },
  {
   "cell_type": "code",
   "execution_count": 105,
   "metadata": {},
   "outputs": [
    {
     "data": {
      "image/png": "[encoded data removed]",
      "text/plain": [
       "<Figure size 432x288 with 1 Axes>"
      ]
     },
     "metadata": {
      "needs_background": "light"
     },
     "output_type": "display_data"
    }
   ],
   "source": [
    "visualize_som(som_1, joined_df)"
   ]
  },
  {
   "cell_type": "code",
   "execution_count": 106,
   "metadata": {},
   "outputs": [
    {
     "data": {
      "text/html": [
       "<div>\n",
       "<style scoped>\n",
       "    .dataframe tbody tr th:only-of-type {\n",
       "        vertical-align: middle;\n",
       "    }\n",
       "\n",
       "    .dataframe tbody tr th {\n",
       "        vertical-align: top;\n",
       "    }\n",
       "\n",
       "    .dataframe thead th {\n",
       "        text-align: right;\n",
       "    }\n",
       "</style>\n",
       "<table border=\"1\" class=\"dataframe\">\n",
       "  <thead>\n",
       "    <tr style=\"text-align: right;\">\n",
       "      <th></th>\n",
       "      <th>Area</th>\n",
       "      <th>Production</th>\n",
       "      <th>Yield</th>\n",
       "    </tr>\n",
       "  </thead>\n",
       "  <tbody>\n",
       "    <tr>\n",
       "      <th>78</th>\n",
       "      <td>0.305237</td>\n",
       "      <td>0.885242</td>\n",
       "      <td>0.899794</td>\n",
       "    </tr>\n",
       "    <tr>\n",
       "      <th>90</th>\n",
       "      <td>0.073518</td>\n",
       "      <td>0.006734</td>\n",
       "      <td>0.028421</td>\n",
       "    </tr>\n",
       "    <tr>\n",
       "      <th>65</th>\n",
       "      <td>0.130810</td>\n",
       "      <td>0.259492</td>\n",
       "      <td>0.615461</td>\n",
       "    </tr>\n",
       "    <tr>\n",
       "      <th>3</th>\n",
       "      <td>0.795520</td>\n",
       "      <td>0.039716</td>\n",
       "      <td>0.015491</td>\n",
       "    </tr>\n",
       "    <tr>\n",
       "      <th>10</th>\n",
       "      <td>0.968655</td>\n",
       "      <td>0.048946</td>\n",
       "      <td>0.015665</td>\n",
       "    </tr>\n",
       "  </tbody>\n",
       "</table>\n",
       "</div>"
      ],
      "text/plain": [
       "        Area  Production     Yield\n",
       "78  0.305237    0.885242  0.899794\n",
       "90  0.073518    0.006734  0.028421\n",
       "65  0.130810    0.259492  0.615461\n",
       "3   0.795520    0.039716  0.015491\n",
       "10  0.968655    0.048946  0.015665"
      ]
     },
     "execution_count": 106,
     "metadata": {},
     "output_type": "execute_result"
    }
   ],
   "source": [
    "trunc_data.head()"
   ]
  },
  {
   "cell_type": "code",
   "execution_count": 107,
   "metadata": {},
   "outputs": [
    {
     "data": {
      "text/html": [
       "<div>\n",
       "<style scoped>\n",
       "    .dataframe tbody tr th:only-of-type {\n",
       "        vertical-align: middle;\n",
       "    }\n",
       "\n",
       "    .dataframe tbody tr th {\n",
       "        vertical-align: top;\n",
       "    }\n",
       "\n",
       "    .dataframe thead th {\n",
       "        text-align: right;\n",
       "    }\n",
       "</style>\n",
       "<table border=\"1\" class=\"dataframe\">\n",
       "  <thead>\n",
       "    <tr style=\"text-align: right;\">\n",
       "      <th></th>\n",
       "      <th>0</th>\n",
       "      <th>1</th>\n",
       "      <th>2</th>\n",
       "    </tr>\n",
       "  </thead>\n",
       "  <tbody>\n",
       "    <tr>\n",
       "      <th>78</th>\n",
       "      <td>0.228340</td>\n",
       "      <td>0.518117</td>\n",
       "      <td>0.676595</td>\n",
       "    </tr>\n",
       "    <tr>\n",
       "      <th>90</th>\n",
       "      <td>0.081310</td>\n",
       "      <td>0.020062</td>\n",
       "      <td>0.044884</td>\n",
       "    </tr>\n",
       "    <tr>\n",
       "      <th>65</th>\n",
       "      <td>0.228340</td>\n",
       "      <td>0.518117</td>\n",
       "      <td>0.676595</td>\n",
       "    </tr>\n",
       "    <tr>\n",
       "      <th>3</th>\n",
       "      <td>0.739894</td>\n",
       "      <td>0.119789</td>\n",
       "      <td>0.066640</td>\n",
       "    </tr>\n",
       "    <tr>\n",
       "      <th>10</th>\n",
       "      <td>0.739894</td>\n",
       "      <td>0.119789</td>\n",
       "      <td>0.066640</td>\n",
       "    </tr>\n",
       "  </tbody>\n",
       "</table>\n",
       "</div>"
      ],
      "text/plain": [
       "           0         1         2\n",
       "78  0.228340  0.518117  0.676595\n",
       "90  0.081310  0.020062  0.044884\n",
       "65  0.228340  0.518117  0.676595\n",
       "3   0.739894  0.119789  0.066640\n",
       "10  0.739894  0.119789  0.066640"
      ]
     },
     "execution_count": 107,
     "metadata": {},
     "output_type": "execute_result"
    }
   ],
   "source": [
    "cd = pd.DataFrame(clustered_df['bmu'].apply(lambda x: x[0].tolist()), index = trunc_data.index)\n",
    "cd = cd.bmu.apply(list).apply(pd.Series).astype(float)\n",
    "cd.head()"
   ]
  },
  {
   "cell_type": "markdown",
   "metadata": {},
   "source": [
    "<br /> <br />"
   ]
  },
  {
   "cell_type": "markdown",
   "metadata": {},
   "source": [
    "## **Q1:** Which numerical criteria would you use to measure an enhancement of the algorithm?"
   ]
  },
  {
   "cell_type": "markdown",
   "metadata": {},
   "source": [
    "Throughout this assignment, we will be exploring different changes to the proposed algorithm, and their impact in results. Thus, we are in need of a numerical criteria that will allow us to measure results. For this reason, we are going to use the metrics of neighbourhood preservation and trustworthiness. These measure how the projection preserves the neighborhoods present in the input space by ranking the k-nearest neighbors of each sample before and after projection. The implementation of this criteria is in function `neighborhood_preservation_trustworthiness` inside `soms/som_utils.py` file."
   ]
  },
  {
   "cell_type": "code",
   "execution_count": 108,
   "metadata": {},
   "outputs": [
    {
     "data": {
      "text/plain": [
       "(0.9193712436430883, 0.8725535116107421)"
      ]
     },
     "execution_count": 108,
     "metadata": {},
     "output_type": "execute_result"
    }
   ],
   "source": [
    "neighborhood_preservation_trustworthiness(1, trunc_data, cd)"
   ]
  },
  {
   "cell_type": "markdown",
   "metadata": {},
   "source": [
    "<br /> <br />"
   ]
  },
  {
   "cell_type": "markdown",
   "metadata": {},
   "source": [
    "## **Q2:** Write a SOM1A version, where you alter the interpolation curve of the learning factor. Can you get improvements?"
   ]
  },
  {
   "cell_type": "markdown",
   "metadata": {},
   "source": [
    "**TODO : ANSWER HERE**\n",
    "\n",
    "\n",
    "**Notes**\n",
    "- Changed the decay func to  `initial_learning_rate * math.pow(2, (-iteration / num_iterations))`\n",
    "- Graph is similar to the `initial_learning_rate * np.exp(-iteration / num_iterations)` (It was on base)\n",
    "- Check graph here [desmos graph](https://www.desmos.com/calculator/cpaljvrhav)"
   ]
  },
  {
   "cell_type": "code",
   "execution_count": 109,
   "metadata": {},
   "outputs": [
    {
     "name": "stdout",
     "output_type": "stream",
     "text": [
      "SOM training epoches 2\n",
      "neighborhood radius  2.6878753795222865\n",
      "learning rate  0.005887040186524746\n",
      "-------------------------------------\n",
      "SOM training epoches 4\n",
      "neighborhood radius  2.4082246852806923\n",
      "learning rate  0.003465724215775732\n",
      "-------------------------------------\n",
      "SOM training epoches 6\n",
      "neighborhood radius  2.157669279974593\n",
      "learning rate  0.0020402857733683695\n",
      "-------------------------------------\n",
      "SOM training epoches 8\n",
      "neighborhood radius  1.9331820449317627\n",
      "learning rate  0.0012011244339814311\n",
      "-------------------------------------\n",
      "SOM training epoches 10\n",
      "neighborhood radius  1.7320508075688772\n",
      "learning rate  0.0007071067811865475\n",
      "-------------------------------------\n",
      "SOM training epoches 12\n",
      "neighborhood radius  1.5518455739153594\n",
      "learning rate  0.0004162766037009366\n",
      "-------------------------------------\n",
      "SOM training epoches 14\n",
      "neighborhood radius  1.3903891703159093\n",
      "learning rate  0.000245063709469745\n",
      "-------------------------------------\n",
      "SOM training epoches 16\n",
      "neighborhood radius  1.2457309396155172\n",
      "learning rate  0.00014426999059072133\n",
      "-------------------------------------\n",
      "SOM training epoches 18\n",
      "neighborhood radius  1.1161231740339044\n",
      "learning rate  8.493232323171236e-05\n",
      "-------------------------------------\n",
      "SOM training epoches 20\n",
      "neighborhood radius  1.0\n",
      "learning rate  5e-05\n",
      "-------------------------------------\n"
     ]
    },
    {
     "data": {
      "image/png": "[encoded data removed]",
      "text/plain": [
       "<Figure size 432x288 with 10 Axes>"
      ]
     },
     "metadata": {
      "needs_background": "light"
     },
     "output_type": "display_data"
    }
   ],
   "source": [
    "from scripts.our_som1_A import SOM as SOM_1_A\n",
    "# som = SOM(x_size, y_size, num_features)\n",
    "som_1_A = SOM_1_A(3,3,3)\n",
    "joined_df, clustered_df = som_train_predict(som_1_A, trunc_data, agri_data, num_epochs=20, init_learning_rate=0.01)\n",
    "#joined_df.iloc[0:5]"
   ]
  },
  {
   "cell_type": "code",
   "execution_count": 110,
   "metadata": {},
   "outputs": [
    {
     "data": {
      "image/png": "[encoded data removed]",
      "text/plain": [
       "<Figure size 432x288 with 1 Axes>"
      ]
     },
     "metadata": {
      "needs_background": "light"
     },
     "output_type": "display_data"
    }
   ],
   "source": [
    "visualize_som(som_1_A, joined_df)"
   ]
  },
  {
   "cell_type": "code",
   "execution_count": 111,
   "metadata": {},
   "outputs": [],
   "source": [
    "cd = pd.DataFrame(clustered_df['bmu'].apply(lambda x: x[0].tolist()), index = trunc_data.index)\n",
    "cd = cd.bmu.apply(list).apply(pd.Series).astype(float)"
   ]
  },
  {
   "cell_type": "code",
   "execution_count": 112,
   "metadata": {},
   "outputs": [
    {
     "data": {
      "text/plain": [
       "(0.9982431807674527, 0.7323097857996942)"
      ]
     },
     "execution_count": 112,
     "metadata": {},
     "output_type": "execute_result"
    }
   ],
   "source": [
    "neighborhood_preservation_trustworthiness(1, trunc_data, cd)"
   ]
  },
  {
   "cell_type": "markdown",
   "metadata": {
    "tags": []
   },
   "source": [
    "**DISCUSSION HERE**"
   ]
  },
  {
   "cell_type": "markdown",
   "metadata": {},
   "source": [
    "<br /> <br />"
   ]
  },
  {
   "cell_type": "markdown",
   "metadata": {},
   "source": [
    "## **Q3:** Write the version SOM1B, where you change the interpolation curve of the standard deviation. Can you get improvement?"
   ]
  },
  {
   "cell_type": "markdown",
   "metadata": {},
   "source": [
    "<br /> <br />"
   ]
  },
  {
   "cell_type": "markdown",
   "metadata": {},
   "source": [
    "## **Q4:** Write the version SOM1C, where you change the normal distribution to other distribution of your choice. Did you achieve improvements?"
   ]
  }
 ],
 "metadata": {
  "kernelspec": {
   "display_name": "Python 3 (ipykernel)",
   "language": "python",
   "name": "python3"
  },
  "language_info": {
   "codemirror_mode": {
    "name": "ipython",
    "version": 3
   },
   "file_extension": ".py",
   "mimetype": "text/x-python",
   "name": "python",
   "nbconvert_exporter": "python",
   "pygments_lexer": "ipython3",
   "version": "3.9.7"
  }
 },
 "nbformat": 4,
 "nbformat_minor": 4
}
