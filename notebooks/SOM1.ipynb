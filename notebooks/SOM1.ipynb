{
 "cells": [
  {
   "cell_type": "markdown",
   "metadata": {},
   "source": [
    "# Self-Organising Maps"
   ]
  },
  {
   "cell_type": "code",
   "execution_count": 1,
   "metadata": {},
   "outputs": [
    {
     "data": {
      "text/html": [
       "<div>\n",
       "<style scoped>\n",
       "    .dataframe tbody tr th:only-of-type {\n",
       "        vertical-align: middle;\n",
       "    }\n",
       "\n",
       "    .dataframe tbody tr th {\n",
       "        vertical-align: top;\n",
       "    }\n",
       "\n",
       "    .dataframe thead th {\n",
       "        text-align: right;\n",
       "    }\n",
       "</style>\n",
       "<table border=\"1\" class=\"dataframe\">\n",
       "  <thead>\n",
       "    <tr style=\"text-align: right;\">\n",
       "      <th></th>\n",
       "      <th>Year AD</th>\n",
       "      <th>Year BS</th>\n",
       "      <th>Crop</th>\n",
       "      <th>Area</th>\n",
       "      <th>Production</th>\n",
       "      <th>Yield</th>\n",
       "    </tr>\n",
       "  </thead>\n",
       "  <tbody>\n",
       "    <tr>\n",
       "      <th>0</th>\n",
       "      <td>1984/85</td>\n",
       "      <td>2041/42</td>\n",
       "      <td>OILSEED</td>\n",
       "      <td>127820</td>\n",
       "      <td>84030</td>\n",
       "      <td>657</td>\n",
       "    </tr>\n",
       "    <tr>\n",
       "      <th>1</th>\n",
       "      <td>1985/86</td>\n",
       "      <td>2042/43</td>\n",
       "      <td>OILSEED</td>\n",
       "      <td>137920</td>\n",
       "      <td>78390</td>\n",
       "      <td>568</td>\n",
       "    </tr>\n",
       "    <tr>\n",
       "      <th>2</th>\n",
       "      <td>1986/87</td>\n",
       "      <td>2043/44</td>\n",
       "      <td>OILSEED</td>\n",
       "      <td>142890</td>\n",
       "      <td>82500</td>\n",
       "      <td>577</td>\n",
       "    </tr>\n",
       "    <tr>\n",
       "      <th>3</th>\n",
       "      <td>1987/88</td>\n",
       "      <td>2044/45</td>\n",
       "      <td>OILSEED</td>\n",
       "      <td>151490</td>\n",
       "      <td>94370</td>\n",
       "      <td>623</td>\n",
       "    </tr>\n",
       "    <tr>\n",
       "      <th>4</th>\n",
       "      <td>1988/89</td>\n",
       "      <td>2045/46</td>\n",
       "      <td>OILSEED</td>\n",
       "      <td>154860</td>\n",
       "      <td>99190</td>\n",
       "      <td>641</td>\n",
       "    </tr>\n",
       "    <tr>\n",
       "      <th>5</th>\n",
       "      <td>1989/90</td>\n",
       "      <td>2046/47</td>\n",
       "      <td>OILSEED</td>\n",
       "      <td>153660</td>\n",
       "      <td>98060</td>\n",
       "      <td>638</td>\n",
       "    </tr>\n",
       "    <tr>\n",
       "      <th>6</th>\n",
       "      <td>1990/91</td>\n",
       "      <td>2047/48</td>\n",
       "      <td>OILSEED</td>\n",
       "      <td>156310</td>\n",
       "      <td>92140</td>\n",
       "      <td>589</td>\n",
       "    </tr>\n",
       "    <tr>\n",
       "      <th>7</th>\n",
       "      <td>1991/92</td>\n",
       "      <td>2048/49</td>\n",
       "      <td>OILSEED</td>\n",
       "      <td>154570</td>\n",
       "      <td>87840</td>\n",
       "      <td>568</td>\n",
       "    </tr>\n",
       "    <tr>\n",
       "      <th>8</th>\n",
       "      <td>1992/93</td>\n",
       "      <td>2049/50</td>\n",
       "      <td>OILSEED</td>\n",
       "      <td>165240</td>\n",
       "      <td>93690</td>\n",
       "      <td>567</td>\n",
       "    </tr>\n",
       "    <tr>\n",
       "      <th>9</th>\n",
       "      <td>1993/94</td>\n",
       "      <td>2050/51</td>\n",
       "      <td>OILSEED</td>\n",
       "      <td>177486</td>\n",
       "      <td>107535</td>\n",
       "      <td>606</td>\n",
       "    </tr>\n",
       "  </tbody>\n",
       "</table>\n",
       "</div>"
      ],
      "text/plain": [
       "   Year AD  Year BS     Crop    Area  Production  Yield\n",
       "0  1984/85  2041/42  OILSEED  127820       84030    657\n",
       "1  1985/86  2042/43  OILSEED  137920       78390    568\n",
       "2  1986/87  2043/44  OILSEED  142890       82500    577\n",
       "3  1987/88  2044/45  OILSEED  151490       94370    623\n",
       "4  1988/89  2045/46  OILSEED  154860       99190    641\n",
       "5  1989/90  2046/47  OILSEED  153660       98060    638\n",
       "6  1990/91  2047/48  OILSEED  156310       92140    589\n",
       "7  1991/92  2048/49  OILSEED  154570       87840    568\n",
       "8  1992/93  2049/50  OILSEED  165240       93690    567\n",
       "9  1993/94  2050/51  OILSEED  177486      107535    606"
      ]
     },
     "execution_count": 1,
     "metadata": {},
     "output_type": "execute_result"
    }
   ],
   "source": [
    "import pandas as pd\n",
    "import numpy as np\n",
    "from matplotlib import pyplot as plt\n",
    "from matplotlib import patches as patches\n",
    "import matplotlib.lines as mlines\n",
    "\n",
    "# reading data\n",
    "data = pd.read_csv(\"cash-crops-nepal.csv\")\n",
    "# visualize some data\n",
    "data.iloc[:10,:]"
   ]
  },
  {
   "cell_type": "code",
   "execution_count": 2,
   "metadata": {},
   "outputs": [
    {
     "data": {
      "text/plain": [
       "(105, 6)"
      ]
     },
     "execution_count": 2,
     "metadata": {},
     "output_type": "execute_result"
    }
   ],
   "source": [
    "data.shape"
   ]
  },
  {
   "cell_type": "code",
   "execution_count": 3,
   "metadata": {},
   "outputs": [
    {
     "name": "stdout",
     "output_type": "stream",
     "text": [
      "['OILSEED' 'POTATO' 'TOBACCO' 'SUGARCANE' 'JUTE']\n"
     ]
    }
   ],
   "source": [
    "# What are the different crops\n",
    "print(data.iloc[:,2].unique())"
   ]
  },
  {
   "cell_type": "markdown",
   "metadata": {},
   "source": [
    "We will not use \"Crop\" labels for training SOM. But we will use it to check if the clustering by SOM worked fine or not. We will also drop the “Year AD” and “Year BS” columns."
   ]
  },
  {
   "cell_type": "code",
   "execution_count": 4,
   "metadata": {},
   "outputs": [
    {
     "data": {
      "text/html": [
       "<div>\n",
       "<style scoped>\n",
       "    .dataframe tbody tr th:only-of-type {\n",
       "        vertical-align: middle;\n",
       "    }\n",
       "\n",
       "    .dataframe tbody tr th {\n",
       "        vertical-align: top;\n",
       "    }\n",
       "\n",
       "    .dataframe thead th {\n",
       "        text-align: right;\n",
       "    }\n",
       "</style>\n",
       "<table border=\"1\" class=\"dataframe\">\n",
       "  <thead>\n",
       "    <tr style=\"text-align: right;\">\n",
       "      <th></th>\n",
       "      <th>Area</th>\n",
       "      <th>Production</th>\n",
       "      <th>Yield</th>\n",
       "    </tr>\n",
       "  </thead>\n",
       "  <tbody>\n",
       "    <tr>\n",
       "      <th>70</th>\n",
       "      <td>37410</td>\n",
       "      <td>1291340</td>\n",
       "      <td>34519</td>\n",
       "    </tr>\n",
       "    <tr>\n",
       "      <th>47</th>\n",
       "      <td>7610</td>\n",
       "      <td>6600</td>\n",
       "      <td>867</td>\n",
       "    </tr>\n",
       "    <tr>\n",
       "      <th>97</th>\n",
       "      <td>12265</td>\n",
       "      <td>15545</td>\n",
       "      <td>1267</td>\n",
       "    </tr>\n",
       "    <tr>\n",
       "      <th>30</th>\n",
       "      <td>89664</td>\n",
       "      <td>748913</td>\n",
       "      <td>8352</td>\n",
       "    </tr>\n",
       "    <tr>\n",
       "      <th>93</th>\n",
       "      <td>9000</td>\n",
       "      <td>11000</td>\n",
       "      <td>1222</td>\n",
       "    </tr>\n",
       "    <tr>\n",
       "      <th>55</th>\n",
       "      <td>4871</td>\n",
       "      <td>3845</td>\n",
       "      <td>789</td>\n",
       "    </tr>\n",
       "    <tr>\n",
       "      <th>63</th>\n",
       "      <td>17480</td>\n",
       "      <td>17480</td>\n",
       "      <td>17480</td>\n",
       "    </tr>\n",
       "    <tr>\n",
       "      <th>98</th>\n",
       "      <td>11675</td>\n",
       "      <td>15195</td>\n",
       "      <td>1301</td>\n",
       "    </tr>\n",
       "    <tr>\n",
       "      <th>67</th>\n",
       "      <td>29550</td>\n",
       "      <td>903010</td>\n",
       "      <td>30559</td>\n",
       "    </tr>\n",
       "    <tr>\n",
       "      <th>20</th>\n",
       "      <td>187823</td>\n",
       "      <td>141989</td>\n",
       "      <td>756</td>\n",
       "    </tr>\n",
       "  </tbody>\n",
       "</table>\n",
       "</div>"
      ],
      "text/plain": [
       "      Area  Production  Yield\n",
       "70   37410     1291340  34519\n",
       "47    7610        6600    867\n",
       "97   12265       15545   1267\n",
       "30   89664      748913   8352\n",
       "93    9000       11000   1222\n",
       "55    4871        3845    789\n",
       "63   17480       17480  17480\n",
       "98   11675       15195   1301\n",
       "67   29550      903010  30559\n",
       "20  187823      141989    756"
      ]
     },
     "execution_count": 4,
     "metadata": {},
     "output_type": "execute_result"
    }
   ],
   "source": [
    "# shuffling data\n",
    "agri_data = data.iloc[np.random.permutation(len(data))]\n",
    "trunc_data = agri_data[[\"Area\", \"Production\", \"Yield\"]]\n",
    "trunc_data.iloc[:10,:]"
   ]
  },
  {
   "cell_type": "code",
   "execution_count": 5,
   "metadata": {},
   "outputs": [
    {
     "data": {
      "text/html": [
       "<div>\n",
       "<style scoped>\n",
       "    .dataframe tbody tr th:only-of-type {\n",
       "        vertical-align: middle;\n",
       "    }\n",
       "\n",
       "    .dataframe tbody tr th {\n",
       "        vertical-align: top;\n",
       "    }\n",
       "\n",
       "    .dataframe thead th {\n",
       "        text-align: right;\n",
       "    }\n",
       "</style>\n",
       "<table border=\"1\" class=\"dataframe\">\n",
       "  <thead>\n",
       "    <tr style=\"text-align: right;\">\n",
       "      <th></th>\n",
       "      <th>Area</th>\n",
       "      <th>Production</th>\n",
       "      <th>Yield</th>\n",
       "    </tr>\n",
       "  </thead>\n",
       "  <tbody>\n",
       "    <tr>\n",
       "      <th>70</th>\n",
       "      <td>0.196451</td>\n",
       "      <td>0.543470</td>\n",
       "      <td>0.858319</td>\n",
       "    </tr>\n",
       "    <tr>\n",
       "      <th>47</th>\n",
       "      <td>0.039962</td>\n",
       "      <td>0.002778</td>\n",
       "      <td>0.021558</td>\n",
       "    </tr>\n",
       "    <tr>\n",
       "      <th>97</th>\n",
       "      <td>0.064407</td>\n",
       "      <td>0.006542</td>\n",
       "      <td>0.031504</td>\n",
       "    </tr>\n",
       "    <tr>\n",
       "      <th>30</th>\n",
       "      <td>0.470853</td>\n",
       "      <td>0.315185</td>\n",
       "      <td>0.207673</td>\n",
       "    </tr>\n",
       "    <tr>\n",
       "      <th>93</th>\n",
       "      <td>0.047262</td>\n",
       "      <td>0.004629</td>\n",
       "      <td>0.030385</td>\n",
       "    </tr>\n",
       "    <tr>\n",
       "      <th>55</th>\n",
       "      <td>0.025579</td>\n",
       "      <td>0.001618</td>\n",
       "      <td>0.019619</td>\n",
       "    </tr>\n",
       "    <tr>\n",
       "      <th>63</th>\n",
       "      <td>0.091793</td>\n",
       "      <td>0.007357</td>\n",
       "      <td>0.434642</td>\n",
       "    </tr>\n",
       "    <tr>\n",
       "      <th>98</th>\n",
       "      <td>0.061309</td>\n",
       "      <td>0.006395</td>\n",
       "      <td>0.032350</td>\n",
       "    </tr>\n",
       "    <tr>\n",
       "      <th>67</th>\n",
       "      <td>0.155176</td>\n",
       "      <td>0.380038</td>\n",
       "      <td>0.759853</td>\n",
       "    </tr>\n",
       "    <tr>\n",
       "      <th>20</th>\n",
       "      <td>0.986315</td>\n",
       "      <td>0.059757</td>\n",
       "      <td>0.018798</td>\n",
       "    </tr>\n",
       "  </tbody>\n",
       "</table>\n",
       "</div>"
      ],
      "text/plain": [
       "        Area  Production     Yield\n",
       "70  0.196451    0.543470  0.858319\n",
       "47  0.039962    0.002778  0.021558\n",
       "97  0.064407    0.006542  0.031504\n",
       "30  0.470853    0.315185  0.207673\n",
       "93  0.047262    0.004629  0.030385\n",
       "55  0.025579    0.001618  0.019619\n",
       "63  0.091793    0.007357  0.434642\n",
       "98  0.061309    0.006395  0.032350\n",
       "67  0.155176    0.380038  0.759853\n",
       "20  0.986315    0.059757  0.018798"
      ]
     },
     "execution_count": 5,
     "metadata": {},
     "output_type": "execute_result"
    }
   ],
   "source": [
    "# (custom choice for) normalizing data\n",
    "trunc_data = trunc_data / trunc_data.max()\n",
    "trunc_data.iloc[:10,:]"
   ]
  },
  {
   "cell_type": "markdown",
   "metadata": {},
   "source": [
    "## Training SOM"
   ]
  },
  {
   "cell_type": "markdown",
   "metadata": {},
   "source": [
    "Now let’s train the data in a 3 x 3 SOM network using 3 input features. "
   ]
  },
  {
   "cell_type": "code",
   "execution_count": 6,
   "metadata": {},
   "outputs": [
    {
     "data": {
      "image/png": "[encoded data removed]",
      "text/plain": [
       "<Figure size 432x288 with 1 Axes>"
      ]
     },
     "metadata": {
      "needs_background": "light"
     },
     "output_type": "display_data"
    }
   ],
   "source": [
    "from our_som1 import SOM\n",
    "\n",
    "# som = SOM(x_size, y_size, num_features)\n",
    "agri_som = SOM(3,3,3)\n",
    "\n",
    "# Initial weights\n",
    "init_fig = plt.figure()\n",
    "agri_som.show_plot(init_fig, 1, 0)\n",
    "plt.show()"
   ]
  },
  {
   "cell_type": "markdown",
   "metadata": {},
   "source": [
    "Random weights (3 features) are given to each of 9 (3×3) neurons. The above figure shows how the neural network looks like in the beginning."
   ]
  },
  {
   "cell_type": "code",
   "execution_count": 7,
   "metadata": {},
   "outputs": [
    {
     "name": "stderr",
     "output_type": "stream",
     "text": [
      "/Users/eugenio/OneDrive - Universidade de Aveiro/ROOT/WORK_UA/K02_Courses/Current-Courses/K02E39_TMBD/shared/session12/notebooks/our_som1.py:151: MatplotlibDeprecationWarning: Passing non-integers as three-element position specification is deprecated since 3.3 and will be removed two minor releases later.\n",
      "  ax = fig.add_subplot(2, 5, position, aspect=\"equal\")\n"
     ]
    },
    {
     "name": "stdout",
     "output_type": "stream",
     "text": [
      "SOM training epoches 20\n",
      "neighborhood radius  2.6878753795222865\n",
      "learning rate  0.009048374180359595\n",
      "-------------------------------------\n",
      "SOM training epoches 40\n",
      "neighborhood radius  2.4082246852806923\n",
      "learning rate  0.008187307530779819\n",
      "-------------------------------------\n",
      "SOM training epoches 60\n",
      "neighborhood radius  2.157669279974593\n",
      "learning rate  0.007408182206817179\n",
      "-------------------------------------\n",
      "SOM training epoches 80\n",
      "neighborhood radius  1.9331820449317627\n",
      "learning rate  0.006703200460356393\n",
      "-------------------------------------\n",
      "SOM training epoches 100\n",
      "neighborhood radius  1.7320508075688772\n",
      "learning rate  0.006065306597126334\n",
      "-------------------------------------\n",
      "SOM training epoches 120\n",
      "neighborhood radius  1.5518455739153598\n",
      "learning rate  0.005488116360940265\n",
      "-------------------------------------\n",
      "SOM training epoches 140\n",
      "neighborhood radius  1.3903891703159093\n",
      "learning rate  0.004965853037914096\n",
      "-------------------------------------\n",
      "SOM training epoches 160\n",
      "neighborhood radius  1.2457309396155174\n",
      "learning rate  0.004493289641172216\n",
      "-------------------------------------\n",
      "SOM training epoches 180\n",
      "neighborhood radius  1.1161231740339044\n",
      "learning rate  0.004065696597405992\n",
      "-------------------------------------\n",
      "SOM training epoches 200\n",
      "neighborhood radius  1.0\n",
      "learning rate  0.0036787944117144234\n",
      "-------------------------------------\n"
     ]
    },
    {
     "data": {
      "image/png": "[encoded data removed]",
      "text/plain": [
       "<Figure size 432x288 with 10 Axes>"
      ]
     },
     "metadata": {
      "needs_background": "light"
     },
     "output_type": "display_data"
    }
   ],
   "source": [
    "agri_som.train(trunc_data.values,\n",
    "          num_epochs=200,\n",
    "          init_learning_rate=0.01\n",
    "          )"
   ]
  },
  {
   "cell_type": "markdown",
   "metadata": {},
   "source": [
    "Notice: \n",
    "\n",
    "- after 60 Epochs, the network changed from random colors (initialization) to nearly constant color; this means that initial neighbourhood is large, so each neuron’s weight are being adjusted according to data.\n",
    "\n",
    "- Slowly, the network develops different color according to input data structures/patterns, but, you can notice similar colors are neighbors to one another.\n",
    "\n",
    "- Since there was a random initialization, the positions of colors may change but the topology will be preserved."
   ]
  },
  {
   "cell_type": "markdown",
   "metadata": {},
   "source": [
    "## Prediction and Analysis"
   ]
  },
  {
   "cell_type": "code",
   "execution_count": 8,
   "metadata": {},
   "outputs": [
    {
     "data": {
      "text/html": [
       "<div>\n",
       "<style scoped>\n",
       "    .dataframe tbody tr th:only-of-type {\n",
       "        vertical-align: middle;\n",
       "    }\n",
       "\n",
       "    .dataframe tbody tr th {\n",
       "        vertical-align: top;\n",
       "    }\n",
       "\n",
       "    .dataframe thead th {\n",
       "        text-align: right;\n",
       "    }\n",
       "</style>\n",
       "<table border=\"1\" class=\"dataframe\">\n",
       "  <thead>\n",
       "    <tr style=\"text-align: right;\">\n",
       "      <th></th>\n",
       "      <th>Area</th>\n",
       "      <th>Production</th>\n",
       "      <th>Yield</th>\n",
       "      <th>bmu</th>\n",
       "      <th>bmu_idx</th>\n",
       "    </tr>\n",
       "  </thead>\n",
       "  <tbody>\n",
       "    <tr>\n",
       "      <th>70</th>\n",
       "      <td>0.196451</td>\n",
       "      <td>0.543470</td>\n",
       "      <td>0.858319</td>\n",
       "      <td>[[0.23003157202174665, 0.6440268778802727, 0.8...</td>\n",
       "      <td>[0, 0]</td>\n",
       "    </tr>\n",
       "    <tr>\n",
       "      <th>47</th>\n",
       "      <td>0.039962</td>\n",
       "      <td>0.002778</td>\n",
       "      <td>0.021558</td>\n",
       "      <td>[[0.059592376933714525, 0.013746131324047405, ...</td>\n",
       "      <td>[2, 0]</td>\n",
       "    </tr>\n",
       "    <tr>\n",
       "      <th>97</th>\n",
       "      <td>0.064407</td>\n",
       "      <td>0.006542</td>\n",
       "      <td>0.031504</td>\n",
       "      <td>[[0.059592376933714525, 0.013746131324047405, ...</td>\n",
       "      <td>[2, 0]</td>\n",
       "    </tr>\n",
       "    <tr>\n",
       "      <th>30</th>\n",
       "      <td>0.470853</td>\n",
       "      <td>0.315185</td>\n",
       "      <td>0.207673</td>\n",
       "      <td>[[0.37225298642447213, 0.236338135656283, 0.23...</td>\n",
       "      <td>[1, 1]</td>\n",
       "    </tr>\n",
       "    <tr>\n",
       "      <th>93</th>\n",
       "      <td>0.047262</td>\n",
       "      <td>0.004629</td>\n",
       "      <td>0.030385</td>\n",
       "      <td>[[0.059592376933714525, 0.013746131324047405, ...</td>\n",
       "      <td>[2, 0]</td>\n",
       "    </tr>\n",
       "    <tr>\n",
       "      <th>55</th>\n",
       "      <td>0.025579</td>\n",
       "      <td>0.001618</td>\n",
       "      <td>0.019619</td>\n",
       "      <td>[[0.059592376933714525, 0.013746131324047405, ...</td>\n",
       "      <td>[2, 0]</td>\n",
       "    </tr>\n",
       "    <tr>\n",
       "      <th>63</th>\n",
       "      <td>0.091793</td>\n",
       "      <td>0.007357</td>\n",
       "      <td>0.434642</td>\n",
       "      <td>[[0.15280180486905387, 0.21966479153009624, 0....</td>\n",
       "      <td>[1, 0]</td>\n",
       "    </tr>\n",
       "    <tr>\n",
       "      <th>98</th>\n",
       "      <td>0.061309</td>\n",
       "      <td>0.006395</td>\n",
       "      <td>0.032350</td>\n",
       "      <td>[[0.059592376933714525, 0.013746131324047405, ...</td>\n",
       "      <td>[2, 0]</td>\n",
       "    </tr>\n",
       "    <tr>\n",
       "      <th>67</th>\n",
       "      <td>0.155176</td>\n",
       "      <td>0.380038</td>\n",
       "      <td>0.759853</td>\n",
       "      <td>[[0.23003157202174665, 0.6440268778802727, 0.8...</td>\n",
       "      <td>[0, 0]</td>\n",
       "    </tr>\n",
       "    <tr>\n",
       "      <th>20</th>\n",
       "      <td>0.986315</td>\n",
       "      <td>0.059757</td>\n",
       "      <td>0.018798</td>\n",
       "      <td>[[0.8599893337692484, 0.0482929386581269, 0.01...</td>\n",
       "      <td>[2, 2]</td>\n",
       "    </tr>\n",
       "  </tbody>\n",
       "</table>\n",
       "</div>"
      ],
      "text/plain": [
       "        Area  Production     Yield  \\\n",
       "70  0.196451    0.543470  0.858319   \n",
       "47  0.039962    0.002778  0.021558   \n",
       "97  0.064407    0.006542  0.031504   \n",
       "30  0.470853    0.315185  0.207673   \n",
       "93  0.047262    0.004629  0.030385   \n",
       "55  0.025579    0.001618  0.019619   \n",
       "63  0.091793    0.007357  0.434642   \n",
       "98  0.061309    0.006395  0.032350   \n",
       "67  0.155176    0.380038  0.759853   \n",
       "20  0.986315    0.059757  0.018798   \n",
       "\n",
       "                                                  bmu bmu_idx  \n",
       "70  [[0.23003157202174665, 0.6440268778802727, 0.8...  [0, 0]  \n",
       "47  [[0.059592376933714525, 0.013746131324047405, ...  [2, 0]  \n",
       "97  [[0.059592376933714525, 0.013746131324047405, ...  [2, 0]  \n",
       "30  [[0.37225298642447213, 0.236338135656283, 0.23...  [1, 1]  \n",
       "93  [[0.059592376933714525, 0.013746131324047405, ...  [2, 0]  \n",
       "55  [[0.059592376933714525, 0.013746131324047405, ...  [2, 0]  \n",
       "63  [[0.15280180486905387, 0.21966479153009624, 0....  [1, 0]  \n",
       "98  [[0.059592376933714525, 0.013746131324047405, ...  [2, 0]  \n",
       "67  [[0.23003157202174665, 0.6440268778802727, 0.8...  [0, 0]  \n",
       "20  [[0.8599893337692484, 0.0482929386581269, 0.01...  [2, 2]  "
      ]
     },
     "execution_count": 8,
     "metadata": {},
     "output_type": "execute_result"
    }
   ],
   "source": [
    "def predict(df):\n",
    "    bmu, bmu_idx = agri_som.find_bmu(df.values)\n",
    "    df['bmu'] = bmu\n",
    "    df['bmu_idx'] = bmu_idx\n",
    "    return df\n",
    "clustered_df = trunc_data.apply(predict, axis=1)\n",
    "clustered_df.iloc[0:10]"
   ]
  },
  {
   "cell_type": "markdown",
   "metadata": {},
   "source": [
    "Now, joininig the labelled initial data"
   ]
  },
  {
   "cell_type": "code",
   "execution_count": 9,
   "metadata": {},
   "outputs": [
    {
     "data": {
      "text/html": [
       "<div>\n",
       "<style scoped>\n",
       "    .dataframe tbody tr th:only-of-type {\n",
       "        vertical-align: middle;\n",
       "    }\n",
       "\n",
       "    .dataframe tbody tr th {\n",
       "        vertical-align: top;\n",
       "    }\n",
       "\n",
       "    .dataframe thead th {\n",
       "        text-align: right;\n",
       "    }\n",
       "</style>\n",
       "<table border=\"1\" class=\"dataframe\">\n",
       "  <thead>\n",
       "    <tr style=\"text-align: right;\">\n",
       "      <th></th>\n",
       "      <th>Year AD</th>\n",
       "      <th>Year BS</th>\n",
       "      <th>Crop</th>\n",
       "      <th>Area</th>\n",
       "      <th>Production</th>\n",
       "      <th>Yield</th>\n",
       "      <th>Area_norm</th>\n",
       "      <th>Production_norm</th>\n",
       "      <th>Yield_norm</th>\n",
       "      <th>bmu</th>\n",
       "      <th>bmu_idx</th>\n",
       "    </tr>\n",
       "  </thead>\n",
       "  <tbody>\n",
       "    <tr>\n",
       "      <th>70</th>\n",
       "      <td>1991/92</td>\n",
       "      <td>2048/49</td>\n",
       "      <td>SUGARCANE</td>\n",
       "      <td>37410</td>\n",
       "      <td>1291340</td>\n",
       "      <td>34519</td>\n",
       "      <td>0.196451</td>\n",
       "      <td>0.543470</td>\n",
       "      <td>0.858319</td>\n",
       "      <td>[[0.23003157202174665, 0.6440268778802727, 0.8...</td>\n",
       "      <td>[0, 0]</td>\n",
       "    </tr>\n",
       "    <tr>\n",
       "      <th>47</th>\n",
       "      <td>1989/90</td>\n",
       "      <td>2046/47</td>\n",
       "      <td>TOBACCO</td>\n",
       "      <td>7610</td>\n",
       "      <td>6600</td>\n",
       "      <td>867</td>\n",
       "      <td>0.039962</td>\n",
       "      <td>0.002778</td>\n",
       "      <td>0.021558</td>\n",
       "      <td>[[0.059592376933714525, 0.013746131324047405, ...</td>\n",
       "      <td>[2, 0]</td>\n",
       "    </tr>\n",
       "    <tr>\n",
       "      <th>97</th>\n",
       "      <td>1997/98</td>\n",
       "      <td>2054/55</td>\n",
       "      <td>JUTE</td>\n",
       "      <td>12265</td>\n",
       "      <td>15545</td>\n",
       "      <td>1267</td>\n",
       "      <td>0.064407</td>\n",
       "      <td>0.006542</td>\n",
       "      <td>0.031504</td>\n",
       "      <td>[[0.059592376933714525, 0.013746131324047405, ...</td>\n",
       "      <td>[2, 0]</td>\n",
       "    </tr>\n",
       "    <tr>\n",
       "      <th>30</th>\n",
       "      <td>1993/94</td>\n",
       "      <td>2050/51</td>\n",
       "      <td>POTATO</td>\n",
       "      <td>89664</td>\n",
       "      <td>748913</td>\n",
       "      <td>8352</td>\n",
       "      <td>0.470853</td>\n",
       "      <td>0.315185</td>\n",
       "      <td>0.207673</td>\n",
       "      <td>[[0.37225298642447213, 0.236338135656283, 0.23...</td>\n",
       "      <td>[1, 1]</td>\n",
       "    </tr>\n",
       "    <tr>\n",
       "      <th>93</th>\n",
       "      <td>1993/94</td>\n",
       "      <td>2050/51</td>\n",
       "      <td>JUTE</td>\n",
       "      <td>9000</td>\n",
       "      <td>11000</td>\n",
       "      <td>1222</td>\n",
       "      <td>0.047262</td>\n",
       "      <td>0.004629</td>\n",
       "      <td>0.030385</td>\n",
       "      <td>[[0.059592376933714525, 0.013746131324047405, ...</td>\n",
       "      <td>[2, 0]</td>\n",
       "    </tr>\n",
       "    <tr>\n",
       "      <th>55</th>\n",
       "      <td>1997/98</td>\n",
       "      <td>2054/55</td>\n",
       "      <td>TOBACCO</td>\n",
       "      <td>4871</td>\n",
       "      <td>3845</td>\n",
       "      <td>789</td>\n",
       "      <td>0.025579</td>\n",
       "      <td>0.001618</td>\n",
       "      <td>0.019619</td>\n",
       "      <td>[[0.059592376933714525, 0.013746131324047405, ...</td>\n",
       "      <td>[2, 0]</td>\n",
       "    </tr>\n",
       "    <tr>\n",
       "      <th>63</th>\n",
       "      <td>1984/85</td>\n",
       "      <td>2041/42</td>\n",
       "      <td>SUGARCANE</td>\n",
       "      <td>17480</td>\n",
       "      <td>17480</td>\n",
       "      <td>17480</td>\n",
       "      <td>0.091793</td>\n",
       "      <td>0.007357</td>\n",
       "      <td>0.434642</td>\n",
       "      <td>[[0.15280180486905387, 0.21966479153009624, 0....</td>\n",
       "      <td>[1, 0]</td>\n",
       "    </tr>\n",
       "    <tr>\n",
       "      <th>98</th>\n",
       "      <td>1998/99</td>\n",
       "      <td>2055/56</td>\n",
       "      <td>JUTE</td>\n",
       "      <td>11675</td>\n",
       "      <td>15195</td>\n",
       "      <td>1301</td>\n",
       "      <td>0.061309</td>\n",
       "      <td>0.006395</td>\n",
       "      <td>0.032350</td>\n",
       "      <td>[[0.059592376933714525, 0.013746131324047405, ...</td>\n",
       "      <td>[2, 0]</td>\n",
       "    </tr>\n",
       "    <tr>\n",
       "      <th>67</th>\n",
       "      <td>1988/89</td>\n",
       "      <td>2045/46</td>\n",
       "      <td>SUGARCANE</td>\n",
       "      <td>29550</td>\n",
       "      <td>903010</td>\n",
       "      <td>30559</td>\n",
       "      <td>0.155176</td>\n",
       "      <td>0.380038</td>\n",
       "      <td>0.759853</td>\n",
       "      <td>[[0.23003157202174665, 0.6440268778802727, 0.8...</td>\n",
       "      <td>[0, 0]</td>\n",
       "    </tr>\n",
       "    <tr>\n",
       "      <th>20</th>\n",
       "      <td>2004/2005</td>\n",
       "      <td>2061/62</td>\n",
       "      <td>OILSEED</td>\n",
       "      <td>187823</td>\n",
       "      <td>141989</td>\n",
       "      <td>756</td>\n",
       "      <td>0.986315</td>\n",
       "      <td>0.059757</td>\n",
       "      <td>0.018798</td>\n",
       "      <td>[[0.8599893337692484, 0.0482929386581269, 0.01...</td>\n",
       "      <td>[2, 2]</td>\n",
       "    </tr>\n",
       "  </tbody>\n",
       "</table>\n",
       "</div>"
      ],
      "text/plain": [
       "      Year AD  Year BS       Crop    Area  Production  Yield  Area_norm  \\\n",
       "70    1991/92  2048/49  SUGARCANE   37410     1291340  34519   0.196451   \n",
       "47    1989/90  2046/47    TOBACCO    7610        6600    867   0.039962   \n",
       "97    1997/98  2054/55       JUTE   12265       15545   1267   0.064407   \n",
       "30    1993/94  2050/51     POTATO   89664      748913   8352   0.470853   \n",
       "93    1993/94  2050/51       JUTE    9000       11000   1222   0.047262   \n",
       "55    1997/98  2054/55    TOBACCO    4871        3845    789   0.025579   \n",
       "63    1984/85  2041/42  SUGARCANE   17480       17480  17480   0.091793   \n",
       "98    1998/99  2055/56       JUTE   11675       15195   1301   0.061309   \n",
       "67    1988/89  2045/46  SUGARCANE   29550      903010  30559   0.155176   \n",
       "20  2004/2005  2061/62    OILSEED  187823      141989    756   0.986315   \n",
       "\n",
       "    Production_norm  Yield_norm  \\\n",
       "70         0.543470    0.858319   \n",
       "47         0.002778    0.021558   \n",
       "97         0.006542    0.031504   \n",
       "30         0.315185    0.207673   \n",
       "93         0.004629    0.030385   \n",
       "55         0.001618    0.019619   \n",
       "63         0.007357    0.434642   \n",
       "98         0.006395    0.032350   \n",
       "67         0.380038    0.759853   \n",
       "20         0.059757    0.018798   \n",
       "\n",
       "                                                  bmu bmu_idx  \n",
       "70  [[0.23003157202174665, 0.6440268778802727, 0.8...  [0, 0]  \n",
       "47  [[0.059592376933714525, 0.013746131324047405, ...  [2, 0]  \n",
       "97  [[0.059592376933714525, 0.013746131324047405, ...  [2, 0]  \n",
       "30  [[0.37225298642447213, 0.236338135656283, 0.23...  [1, 1]  \n",
       "93  [[0.059592376933714525, 0.013746131324047405, ...  [2, 0]  \n",
       "55  [[0.059592376933714525, 0.013746131324047405, ...  [2, 0]  \n",
       "63  [[0.15280180486905387, 0.21966479153009624, 0....  [1, 0]  \n",
       "98  [[0.059592376933714525, 0.013746131324047405, ...  [2, 0]  \n",
       "67  [[0.23003157202174665, 0.6440268778802727, 0.8...  [0, 0]  \n",
       "20  [[0.8599893337692484, 0.0482929386581269, 0.01...  [2, 2]  "
      ]
     },
     "execution_count": 9,
     "metadata": {},
     "output_type": "execute_result"
    }
   ],
   "source": [
    "joined_df = agri_data.join(clustered_df, rsuffix=\"_norm\")\n",
    "joined_df[0:10]"
   ]
  },
  {
   "cell_type": "markdown",
   "metadata": {},
   "source": [
    "Visualize how the original data gets clustered in the SOM"
   ]
  },
  {
   "cell_type": "code",
   "execution_count": 10,
   "metadata": {},
   "outputs": [
    {
     "data": {
      "image/png": "[encoded data removed]",
      "text/plain": [
       "<Figure size 432x288 with 1 Axes>"
      ]
     },
     "metadata": {
      "needs_background": "light"
     },
     "output_type": "display_data"
    }
   ],
   "source": [
    "from matplotlib import pyplot as plt\n",
    "from matplotlib import patches as patches\n",
    "import matplotlib.lines as mlines\n",
    "\n",
    "fig = plt.figure()\n",
    "# setup axes\n",
    "ax = fig.add_subplot(111)\n",
    "scale = 50\n",
    "ax.set_xlim((0, agri_som.net.shape[0]*scale))\n",
    "ax.set_ylim((0, agri_som.net.shape[1]*scale))\n",
    "ax.set_title(\"Cash Crops Clustering by using SOM\")\n",
    "\n",
    "for x in range(0, agri_som.net.shape[0]):\n",
    "    for y in range(0, agri_som.net.shape[1]):\n",
    "        ax.add_patch(patches.Rectangle((x*scale, y*scale), scale, scale,\n",
    "                     facecolor='white',\n",
    "                     edgecolor='grey'))\n",
    "legend_map = {}\n",
    "        \n",
    "for index, row in joined_df.iterrows():\n",
    "    x_cor = row['bmu_idx'][0] * scale\n",
    "    y_cor = row['bmu_idx'][1] * scale\n",
    "    x_cor = np.random.randint(x_cor, x_cor + scale)\n",
    "    y_cor = np.random.randint(y_cor, y_cor + scale)\n",
    "    color = row['bmu'][0]\n",
    "    marker = \"$\\\\ \" + row['Crop'][0]+\"$\"\n",
    "    marker = marker.lower()\n",
    "    ax.plot(x_cor, y_cor, color=color, marker=marker, markersize=10)\n",
    "    label = row['Crop']\n",
    "    if not label in legend_map:\n",
    "        legend_map[label] =  mlines.Line2D([], [], color='black', marker=marker, linestyle='None',\n",
    "                          markersize=10, label=label)\n",
    "plt.legend(handles=list(legend_map.values()), bbox_to_anchor=(1, 1))\n",
    "plt.show()"
   ]
  },
  {
   "cell_type": "code",
   "execution_count": 11,
   "metadata": {},
   "outputs": [
    {
     "name": "stdout",
     "output_type": "stream",
     "text": [
      "        Area  Production     Yield\n",
      "47  0.039962    0.002778  0.021558\n",
      "55  0.025579    0.001618  0.019619\n",
      "52  0.031655    0.002292  0.022478\n",
      "62  0.015770    0.001269  0.024965\n",
      "50  0.034974    0.002534  0.022478\n",
      "51  0.035404    0.002619  0.022950\n",
      "54  0.029775    0.001885  0.019643\n",
      "43  0.045581    0.001970  0.013402\n",
      "56  0.023221    0.001646  0.021981\n",
      "61  0.017844    0.001393  0.024219\n",
      "48  0.038282    0.002938  0.023796\n",
      "58  0.022192    0.001672  0.023373\n",
      "46  0.038334    0.002264  0.018326\n",
      "45  0.033976    0.001877  0.017132\n",
      "57  0.022491    0.001603  0.022105\n",
      "42  0.044899    0.002706  0.018699\n",
      "49  0.034238    0.002527  0.022901\n",
      "59  0.020023    0.001584  0.024542\n",
      "44  0.046316    0.002058  0.013775\n",
      "53  0.032190    0.002319  0.022354\n",
      "60  0.018889    0.001456  0.023920\n"
     ]
    },
    {
     "name": "stderr",
     "output_type": "stream",
     "text": [
      "<ipython-input-11-26c8160db52b>:1: UserWarning: Boolean Series key will be reindexed to match DataFrame index.\n",
      "  dataT = trunc_data[data['Crop']=='TOBACCO']\n"
     ]
    }
   ],
   "source": [
    "dataT = trunc_data[data['Crop']=='TOBACCO']\n",
    "print(dataT)"
   ]
  },
  {
   "cell_type": "code",
   "execution_count": 12,
   "metadata": {},
   "outputs": [
    {
     "name": "stdout",
     "output_type": "stream",
     "text": [
      "Area          0.046316\n",
      "Production    0.002938\n",
      "Yield         0.024965\n",
      "dtype: float64\n"
     ]
    }
   ],
   "source": [
    "print(dataT.max())"
   ]
  },
  {
   "cell_type": "code",
   "execution_count": 13,
   "metadata": {},
   "outputs": [
    {
     "name": "stdout",
     "output_type": "stream",
     "text": [
      "Area          0.047262\n",
      "Production    0.004209\n",
      "Yield         0.025959\n",
      "dtype: float64\n"
     ]
    },
    {
     "name": "stderr",
     "output_type": "stream",
     "text": [
      "<ipython-input-13-509d508cc730>:1: UserWarning: Boolean Series key will be reindexed to match DataFrame index.\n",
      "  dataT = trunc_data[data['Crop']=='JUTE']\n"
     ]
    }
   ],
   "source": [
    "dataT = trunc_data[data['Crop']=='JUTE']\n",
    "print(dataT.min())"
   ]
  },
  {
   "cell_type": "code",
   "execution_count": 14,
   "metadata": {},
   "outputs": [
    {
     "name": "stdout",
     "output_type": "stream",
     "text": [
      "Area          0.077544\n",
      "Production    0.007860\n",
      "Yield         0.031578\n",
      "dtype: float64\n"
     ]
    }
   ],
   "source": [
    "print(dataT.mean())"
   ]
  }
 ],
 "metadata": {
  "kernelspec": {
   "display_name": "Python 3.8.2 64-bit",
   "metadata": {
    "interpreter": {
     "hash": "31f2aee4e71d21fbe5cf8b01ff0e069b9275f58929596ceb00d14d90e3e16cd6"
    }
   },
   "name": "python3"
  },
  "language_info": {
   "codemirror_mode": {
    "name": "ipython",
    "version": 3
   },
   "file_extension": ".py",
   "mimetype": "text/x-python",
   "name": "python",
   "nbconvert_exporter": "python",
   "pygments_lexer": "ipython3",
   "version": "3.8.9"
  }
 },
 "nbformat": 4,
 "nbformat_minor": 2
}
