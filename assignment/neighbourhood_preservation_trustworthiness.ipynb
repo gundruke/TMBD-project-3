{
 "cells": [
  {
   "cell_type": "markdown",
   "metadata": {},
   "source": [
    "## Neighborhood Preservation and Trustworthiness\n",
    "\n",
    "Function to evaluate SOM results as an enhancement measure numerical criteria. Based on:\n",
    "Forest, Florent & Lebbah, Mustapha & Azzag, Hanane & Lacaille, Jérôme. (2020). A Survey and Implementation of Performance Metrics for Self-Organized Maps. "
   ]
  },
  {
   "cell_type": "code",
   "execution_count": 3,
   "metadata": {},
   "outputs": [],
   "source": [
    "from sklearn.metrics.pairwise import euclidean_distances\n",
    "\n",
    "import pandas as pd\n",
    "import numpy as np"
   ]
  },
  {
   "cell_type": "code",
   "execution_count": null,
   "metadata": {},
   "outputs": [],
   "source": [
    "def neighborhood_preservation_trustworthiness(k, som, inpt):\n",
    "\n",
    "    # number of neNeighbourhooighbours k should be < data size // 2 \n",
    "    n = inpt.shape[0]\n",
    "    assert k < (n / 2), 'k must be < N/2.'\n",
    "    \n",
    "    d = euclidean_distances(inpt, som) # calculating euclidean distances between input and som\n",
    "    d_data = euclidean_distances(inpt) + np.diag(np.inf * np.ones(n))\n",
    "    print(d_data)\n",
    "    projections = som[np.argmin(d, axis=1)]\n",
    "    d_projections = euclidean_distances(projections) + np.diag(np.inf * np.ones(n))\n",
    "    \n",
    "    original_ranks = pd.DataFrame(d_data).rank(method='min', axis=1)\n",
    "    projected_ranks = pd.DataFrame(d_projections).rank(method='min', axis=1)\n",
    "    \n",
    "    weights = (projected_ranks <= k).sum(axis=1) / (original_ranks <= k).sum(axis=1)  # weight k-NN ties\n",
    "    \n",
    "    nps = np.zeros(n)\n",
    "    trs = np.zeros(n)\n",
    "    for i in range(n):\n",
    "        for j in range(n):\n",
    "            if (i != j) and (original_ranks.iloc[i, j] <= k) and (projected_ranks.iloc[i, j] > k):\n",
    "                nps[i] += (projected_ranks.iloc[i, j] - k) * weights[i]\n",
    "            elif (i != j) and (original_ranks.iloc[i, j] > k) and (projected_ranks.iloc[i, j] <= k):\n",
    "                trs[i] += (original_ranks.iloc[i, j] - k) / weights[i]\n",
    "    npr = 1.0 - 2.0 / (n * k * (2*n - 3*k - 1)) * np.sum(nps)\n",
    "    tr = 1.0 - 2.0 / (n * k * (2*n - 3*k - 1)) * np.sum(trs)\n",
    "    \n",
    "    return npr, tr"
   ]
  }
 ],
 "metadata": {
  "interpreter": {
   "hash": "31f2aee4e71d21fbe5cf8b01ff0e069b9275f58929596ceb00d14d90e3e16cd6"
  },
  "kernelspec": {
   "display_name": "Python 3.9.7 64-bit",
   "language": "python",
   "name": "python3"
  },
  "language_info": {
   "codemirror_mode": {
    "name": "ipython",
    "version": 3
   },
   "file_extension": ".py",
   "mimetype": "text/x-python",
   "name": "python",
   "nbconvert_exporter": "python",
   "pygments_lexer": "ipython3",
   "version": "3.9.7"
  },
  "orig_nbformat": 4
 },
 "nbformat": 4,
 "nbformat_minor": 2
}
